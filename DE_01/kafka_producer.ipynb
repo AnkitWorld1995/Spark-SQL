{
 "cells": [
  {
   "cell_type": "code",
   "execution_count": 1,
   "outputs": [],
   "source": [
    "import pandas as pd\n",
    "from kafka import KafkaProducer\n",
    "from time import sleep\n",
    "import time as t\n",
    "from json import dumps\n",
    "import math as m\n",
    "import json\n",
    "import numpy as np"
   ],
   "metadata": {
    "collapsed": false,
    "ExecuteTime": {
     "end_time": "2024-01-05T13:46:56.281630Z",
     "start_time": "2024-01-05T13:46:55.828200Z"
    }
   },
   "id": "13b6e13cc5ded026"
  },
  {
   "cell_type": "code",
   "execution_count": 14,
   "outputs": [],
   "source": [
    "# Create Producer.\n",
    "\n",
    "producer = KafkaProducer(bootstrap_servers=['3.110.132.110:9092'], #change ip here\n",
    "                         value_serializer=lambda x:\n",
    "                         dumps(x).encode('utf-8'))"
   ],
   "metadata": {
    "collapsed": false,
    "ExecuteTime": {
     "end_time": "2023-08-21T12:58:49.886146Z",
     "start_time": "2023-08-21T12:58:49.649083Z"
    }
   },
   "id": "4160b68371ab459f"
  },
  {
   "cell_type": "code",
   "execution_count": 34,
   "outputs": [
    {
     "data": {
      "text/plain": "<kafka.producer.future.FutureRecordMetadata at 0x12fd14990>"
     },
     "execution_count": 34,
     "metadata": {},
     "output_type": "execute_result"
    }
   ],
   "source": [
    "# Send Data To Producer.\n",
    "producer.send('demo_topic_de-02', value= {'Ankit':\"Michael Schumacher\"})"
   ],
   "metadata": {
    "collapsed": false,
    "ExecuteTime": {
     "end_time": "2023-08-21T14:21:13.855007Z",
     "start_time": "2023-08-21T14:21:13.848947Z"
    }
   },
   "id": "f1747c54ceafb210"
  },
  {
   "cell_type": "code",
   "execution_count": 2,
   "outputs": [],
   "source": [
    "df = pd.read_csv(\"indexProcessed.csv\")"
   ],
   "metadata": {
    "collapsed": false,
    "ExecuteTime": {
     "end_time": "2024-01-05T13:46:59.859578Z",
     "start_time": "2024-01-05T13:46:59.751311Z"
    }
   },
   "id": "658e9e249622fd5a"
  },
  {
   "cell_type": "code",
   "execution_count": 3,
   "outputs": [
    {
     "data": {
      "text/plain": "  Index        Date         Open         High          Low        Close  \\\n0   HSI  1986-12-31  2568.300049  2568.300049  2568.300049  2568.300049   \n1   HSI  1987-01-02  2540.100098  2540.100098  2540.100098  2540.100098   \n2   HSI  1987-01-05  2552.399902  2552.399902  2552.399902  2552.399902   \n3   HSI  1987-01-06  2583.899902  2583.899902  2583.899902  2583.899902   \n4   HSI  1987-01-07  2607.100098  2607.100098  2607.100098  2607.100098   \n\n     Adj Close  Volume    CloseUSD  \n0  2568.300049     0.0  333.879006  \n1  2540.100098     0.0  330.213013  \n2  2552.399902     0.0  331.811987  \n3  2583.899902     0.0  335.906987  \n4  2607.100098     0.0  338.923013  ",
      "text/html": "<div>\n<style scoped>\n    .dataframe tbody tr th:only-of-type {\n        vertical-align: middle;\n    }\n\n    .dataframe tbody tr th {\n        vertical-align: top;\n    }\n\n    .dataframe thead th {\n        text-align: right;\n    }\n</style>\n<table border=\"1\" class=\"dataframe\">\n  <thead>\n    <tr style=\"text-align: right;\">\n      <th></th>\n      <th>Index</th>\n      <th>Date</th>\n      <th>Open</th>\n      <th>High</th>\n      <th>Low</th>\n      <th>Close</th>\n      <th>Adj Close</th>\n      <th>Volume</th>\n      <th>CloseUSD</th>\n    </tr>\n  </thead>\n  <tbody>\n    <tr>\n      <th>0</th>\n      <td>HSI</td>\n      <td>1986-12-31</td>\n      <td>2568.300049</td>\n      <td>2568.300049</td>\n      <td>2568.300049</td>\n      <td>2568.300049</td>\n      <td>2568.300049</td>\n      <td>0.0</td>\n      <td>333.879006</td>\n    </tr>\n    <tr>\n      <th>1</th>\n      <td>HSI</td>\n      <td>1987-01-02</td>\n      <td>2540.100098</td>\n      <td>2540.100098</td>\n      <td>2540.100098</td>\n      <td>2540.100098</td>\n      <td>2540.100098</td>\n      <td>0.0</td>\n      <td>330.213013</td>\n    </tr>\n    <tr>\n      <th>2</th>\n      <td>HSI</td>\n      <td>1987-01-05</td>\n      <td>2552.399902</td>\n      <td>2552.399902</td>\n      <td>2552.399902</td>\n      <td>2552.399902</td>\n      <td>2552.399902</td>\n      <td>0.0</td>\n      <td>331.811987</td>\n    </tr>\n    <tr>\n      <th>3</th>\n      <td>HSI</td>\n      <td>1987-01-06</td>\n      <td>2583.899902</td>\n      <td>2583.899902</td>\n      <td>2583.899902</td>\n      <td>2583.899902</td>\n      <td>2583.899902</td>\n      <td>0.0</td>\n      <td>335.906987</td>\n    </tr>\n    <tr>\n      <th>4</th>\n      <td>HSI</td>\n      <td>1987-01-07</td>\n      <td>2607.100098</td>\n      <td>2607.100098</td>\n      <td>2607.100098</td>\n      <td>2607.100098</td>\n      <td>2607.100098</td>\n      <td>0.0</td>\n      <td>338.923013</td>\n    </tr>\n  </tbody>\n</table>\n</div>"
     },
     "execution_count": 3,
     "metadata": {},
     "output_type": "execute_result"
    }
   ],
   "source": [
    "df.head(5)"
   ],
   "metadata": {
    "collapsed": false,
    "ExecuteTime": {
     "end_time": "2024-01-05T13:47:01.889807Z",
     "start_time": "2024-01-05T13:47:01.880072Z"
    }
   },
   "id": "ebf3ff4c7e3d9f"
  },
  {
   "cell_type": "code",
   "execution_count": 4,
   "outputs": [
    {
     "name": "stdout",
     "output_type": "stream",
     "text": [
      "[{'Index': 'HSI', 'Date': '1986-12-31', 'Open': 2568.300049, 'High': 2568.300049, 'Low': 2568.300049, 'Close': 2568.300049, 'Adj Close': 2568.300049, 'Volume': 0.0, 'CloseUSD': 333.87900637}, {'Index': 'HSI', 'Date': '1987-01-02', 'Open': 2540.100098, 'High': 2540.100098, 'Low': 2540.100098, 'Close': 2540.100098, 'Adj Close': 2540.100098, 'Volume': 0.0, 'CloseUSD': 330.21301274}, {'Index': 'HSI', 'Date': '1987-01-05', 'Open': 2552.399902, 'High': 2552.399902, 'Low': 2552.399902, 'Close': 2552.399902, 'Adj Close': 2552.399902, 'Volume': 0.0, 'CloseUSD': 331.81198726}, {'Index': 'HSI', 'Date': '1987-01-06', 'Open': 2583.899902, 'High': 2583.899902, 'Low': 2583.899902, 'Close': 2583.899902, 'Adj Close': 2583.899902, 'Volume': 0.0, 'CloseUSD': 335.90698726000005}, {'Index': 'HSI', 'Date': '1987-01-07', 'Open': 2607.100098, 'High': 2607.100098, 'Low': 2607.100098, 'Close': 2607.100098, 'Adj Close': 2607.100098, 'Volume': 0.0, 'CloseUSD': 338.92301274}, {'Index': 'HSI', 'Date': '1987-01-08', 'Open': 2603.300049, 'High': 2603.300049, 'Low': 2603.300049, 'Close': 2603.300049, 'Adj Close': 2603.300049, 'Volume': 0.0, 'CloseUSD': 338.42900637}, {'Index': 'HSI', 'Date': '1987-01-09', 'Open': 2561.699951, 'High': 2561.699951, 'Low': 2561.699951, 'Close': 2561.699951, 'Adj Close': 2561.699951, 'Volume': 0.0, 'CloseUSD': 333.02099363}, {'Index': 'HSI', 'Date': '1987-01-12', 'Open': 2614.899902, 'High': 2614.899902, 'Low': 2614.899902, 'Close': 2614.899902, 'Adj Close': 2614.899902, 'Volume': 0.0, 'CloseUSD': 339.93698726}, {'Index': 'HSI', 'Date': '1987-01-13', 'Open': 2590.800049, 'High': 2590.800049, 'Low': 2590.800049, 'Close': 2590.800049, 'Adj Close': 2590.800049, 'Volume': 0.0, 'CloseUSD': 336.80400637}, {'Index': 'HSI', 'Date': '1987-01-14', 'Open': 2578.199951, 'High': 2578.199951, 'Low': 2578.199951, 'Close': 2578.199951, 'Adj Close': 2578.199951, 'Volume': 0.0, 'CloseUSD': 335.16599363}]\n"
     ]
    }
   ],
   "source": [
    "psd = df.head(10).to_dict(orient='records')\n",
    "print(psd)"
   ],
   "metadata": {
    "collapsed": false,
    "ExecuteTime": {
     "end_time": "2024-01-05T13:47:33.159945Z",
     "start_time": "2024-01-05T13:47:33.151848Z"
    }
   },
   "id": "badf784482121e1a"
  },
  {
   "cell_type": "code",
   "execution_count": null,
   "outputs": [],
   "source": [
    "dataList = df.head(10).to_dict(orient='records')\n",
    "index = 0\n",
    "while index < len(dataList):\n",
    "    for key in dataList[index]:\n",
    "        print(dataList[index][key])\n",
    "    index += 1"
   ],
   "metadata": {
    "collapsed": false
   },
   "id": "79aefdf3c1f1b19a"
  },
  {
   "cell_type": "code",
   "execution_count": null,
   "outputs": [],
   "source": [
    "dataList = df.head(100).to_dict(orient='records')\n",
    "index= 0\n",
    "while index < len(dataList):\n",
    "    print(dataList[index])\n",
    "    producer.send('demo_topic_de-02', value=dataList[index])\n",
    "    index += 1"
   ],
   "metadata": {
    "collapsed": false
   },
   "id": "79df9171a251306d"
  },
  {
   "cell_type": "code",
   "execution_count": 42,
   "outputs": [],
   "source": [
    "# Flash All Producer Data\n",
    "producer.flush()"
   ],
   "metadata": {
    "collapsed": false,
    "ExecuteTime": {
     "end_time": "2023-08-21T15:17:27.947026Z",
     "start_time": "2023-08-21T15:17:27.945200Z"
    }
   },
   "id": "8d91f36f9023114b"
  },
  {
   "cell_type": "code",
   "execution_count": null,
   "outputs": [],
   "source": [
    "count_rows = df.shape[0]\n",
    "print(count_rows)\n",
    "\n",
    "batch_lot = 100\n",
    "total_batch = round(count_rows/batch_lot) + 1\n",
    "print(\"The Total Batches are\", total_batch)"
   ],
   "metadata": {
    "collapsed": false
   },
   "id": "eff5cd0421cb1c21"
  },
  {
   "cell_type": "code",
   "execution_count": null,
   "outputs": [],
   "source": [
    "# Create a function to Process Batches of Data from\n",
    "# Kafka Consumer and upload To S3 Bucket."
   ],
   "metadata": {
    "collapsed": false
   },
   "id": "84f1b30fa600c0a6"
  },
  {
   "cell_type": "code",
   "execution_count": null,
   "outputs": [],
   "source": [
    "def batch_process(data_set_size):\n",
    "    print(data_set_size)"
   ],
   "metadata": {
    "collapsed": false
   },
   "id": "eb6caa4da3affd2c"
  },
  {
   "cell_type": "code",
   "execution_count": null,
   "outputs": [],
   "source": [
    "# ----------------- Data Analysis: Producer --------------------- "
   ],
   "metadata": {
    "collapsed": false
   },
   "id": "1f56af1e223d5105"
  },
  {
   "cell_type": "code",
   "execution_count": 18,
   "outputs": [
    {
     "data": {
      "text/plain": "          Index        Date         Open         High          Low  \\\n104222  J203.JO  2021-05-28  66940.25000  67726.56250  66794.60938   \n104223  J203.JO  2021-05-31  67554.85938  68140.85156  67554.85938   \n\n              Close    Adj Close  Volume     CloseUSD  \n104222  67554.85938  67554.85938     0.0  4728.840157  \n104223  67964.03906  67964.03906     0.0  4757.482734  ",
      "text/html": "<div>\n<style scoped>\n    .dataframe tbody tr th:only-of-type {\n        vertical-align: middle;\n    }\n\n    .dataframe tbody tr th {\n        vertical-align: top;\n    }\n\n    .dataframe thead th {\n        text-align: right;\n    }\n</style>\n<table border=\"1\" class=\"dataframe\">\n  <thead>\n    <tr style=\"text-align: right;\">\n      <th></th>\n      <th>Index</th>\n      <th>Date</th>\n      <th>Open</th>\n      <th>High</th>\n      <th>Low</th>\n      <th>Close</th>\n      <th>Adj Close</th>\n      <th>Volume</th>\n      <th>CloseUSD</th>\n    </tr>\n  </thead>\n  <tbody>\n    <tr>\n      <th>104222</th>\n      <td>J203.JO</td>\n      <td>2021-05-28</td>\n      <td>66940.25000</td>\n      <td>67726.56250</td>\n      <td>66794.60938</td>\n      <td>67554.85938</td>\n      <td>67554.85938</td>\n      <td>0.0</td>\n      <td>4728.840157</td>\n    </tr>\n    <tr>\n      <th>104223</th>\n      <td>J203.JO</td>\n      <td>2021-05-31</td>\n      <td>67554.85938</td>\n      <td>68140.85156</td>\n      <td>67554.85938</td>\n      <td>67964.03906</td>\n      <td>67964.03906</td>\n      <td>0.0</td>\n      <td>4757.482734</td>\n    </tr>\n  </tbody>\n</table>\n</div>"
     },
     "execution_count": 18,
     "metadata": {},
     "output_type": "execute_result"
    }
   ],
   "source": [
    "# Fetch Head & Tail Data.\n",
    "\n",
    "df.head(300)\n",
    "df.tail(2)"
   ],
   "metadata": {
    "collapsed": false,
    "ExecuteTime": {
     "end_time": "2023-08-24T03:33:36.331108Z",
     "start_time": "2023-08-24T03:33:36.321876Z"
    }
   },
   "id": "e1e96a708cb5c2df"
  },
  {
   "cell_type": "code",
   "execution_count": 34,
   "outputs": [
    {
     "data": {
      "text/plain": "Index        104224\nDate         104224\nOpen         104224\nHigh         104224\nLow          104224\nClose        104224\nAdj Close    104224\nVolume       104224\nCloseUSD     104224\ndtype: int64"
     },
     "execution_count": 34,
     "metadata": {},
     "output_type": "execute_result"
    }
   ],
   "source": [
    "# Invert Column To Row with Number of Required rows.\n",
    "\n",
    "df.T.head(20)"
   ],
   "metadata": {
    "collapsed": false,
    "ExecuteTime": {
     "end_time": "2023-08-24T03:45:37.315576Z",
     "start_time": "2023-08-24T03:45:36.833395Z"
    }
   },
   "id": "1c6b6ae8b53cb6fa"
  },
  {
   "cell_type": "code",
   "execution_count": null,
   "outputs": [],
   "source": [],
   "metadata": {
    "collapsed": false
   },
   "id": "e59c2d3f4cf32cba"
  }
 ],
 "metadata": {
  "kernelspec": {
   "display_name": "Python 3",
   "language": "python",
   "name": "python3"
  },
  "language_info": {
   "codemirror_mode": {
    "name": "ipython",
    "version": 2
   },
   "file_extension": ".py",
   "mimetype": "text/x-python",
   "name": "python",
   "nbconvert_exporter": "python",
   "pygments_lexer": "ipython2",
   "version": "2.7.6"
  }
 },
 "nbformat": 4,
 "nbformat_minor": 5
}

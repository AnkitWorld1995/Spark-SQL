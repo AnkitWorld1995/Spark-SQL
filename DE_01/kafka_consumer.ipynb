{
 "cells": [
  {
   "cell_type": "code",
   "execution_count": 21,
   "id": "initial_id",
   "metadata": {
    "collapsed": true,
    "ExecuteTime": {
     "end_time": "2023-08-21T15:06:59.827983Z",
     "start_time": "2023-08-21T15:06:59.826649Z"
    }
   },
   "outputs": [],
   "source": [
    "import json\n",
    "from kafka import KafkaConsumer\n",
    "from json import dumps, loads\n",
    "from s3fs import S3FileSystem"
   ]
  },
  {
   "cell_type": "code",
   "execution_count": 3,
   "outputs": [],
   "source": [
    "consumer = KafkaConsumer('demo_topic_de-02', bootstrap_servers=['3.110.132.110:9092'],\n",
    "              value_deserializer=lambda x: loads(x.decode('utf-8')))"
   ],
   "metadata": {
    "collapsed": false,
    "ExecuteTime": {
     "end_time": "2023-08-21T14:20:37.736151Z",
     "start_time": "2023-08-21T14:20:37.524537Z"
    }
   },
   "id": "576327a50c29586e"
  },
  {
   "cell_type": "code",
   "execution_count": null,
   "outputs": [],
   "source": [
    "for c in consumer:\n",
    "    print(c.value)"
   ],
   "metadata": {
    "collapsed": false
   },
   "id": "aed90daf42272e9c"
  },
  {
   "cell_type": "code",
   "execution_count": 22,
   "outputs": [],
   "source": [
    "s3 = S3FileSystem()"
   ],
   "metadata": {
    "collapsed": false,
    "ExecuteTime": {
     "end_time": "2023-08-21T15:07:05.211976Z",
     "start_time": "2023-08-21T15:07:05.209329Z"
    }
   },
   "id": "84f742ffd0effa2"
  },
  {
   "cell_type": "code",
   "execution_count": null,
   "outputs": [],
   "source": [
    "# Upload the Consumed data from Kafka Consumer to AWS S3\n",
    "for index, data in enumerate(consumer):\n",
    "    with s3.open('s3://kafka-de-01/stock_market_{}.json'.format(index),'w') as file:\n",
    "        json.dump(data.value, file)\n",
    "        print(index,\"\\n\", data.value)\n",
    "    "
   ],
   "metadata": {
    "collapsed": false,
    "ExecuteTime": {
     "end_time": "2023-08-21T15:16:47.124059Z",
     "start_time": "2023-08-21T15:16:47.123851Z"
    }
   },
   "id": "40e08b43f5c47e4d"
  },
  {
   "cell_type": "code",
   "execution_count": null,
   "outputs": [],
   "source": [],
   "metadata": {
    "collapsed": false
   },
   "id": "5ce9bce2ebf5673c"
  }
 ],
 "metadata": {
  "kernelspec": {
   "display_name": "Python 3",
   "language": "python",
   "name": "python3"
  },
  "language_info": {
   "codemirror_mode": {
    "name": "ipython",
    "version": 2
   },
   "file_extension": ".py",
   "mimetype": "text/x-python",
   "name": "python",
   "nbconvert_exporter": "python",
   "pygments_lexer": "ipython2",
   "version": "2.7.6"
  }
 },
 "nbformat": 4,
 "nbformat_minor": 5
}

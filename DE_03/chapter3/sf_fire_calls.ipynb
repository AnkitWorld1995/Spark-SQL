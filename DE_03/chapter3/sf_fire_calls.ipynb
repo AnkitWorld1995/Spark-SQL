{
 "cells": [
  {
   "cell_type": "code",
   "execution_count": 1,
   "id": "initial_id",
   "metadata": {
    "collapsed": true,
    "ExecuteTime": {
     "end_time": "2023-12-25T12:16:52.828018Z",
     "start_time": "2023-12-25T12:16:52.643243Z"
    }
   },
   "outputs": [],
   "source": [
    "from pyspark.sql import SparkSession as sp\n",
    "from pyspark.sql.types import *\n",
    "import pyspark.sql.functions as F"
   ]
  },
  {
   "cell_type": "code",
   "execution_count": 2,
   "outputs": [
    {
     "name": "stderr",
     "output_type": "stream",
     "text": [
      "23/12/25 17:46:54 WARN Utils: Your hostname, Sivas-MacBook-Air.local resolves to a loopback address: 127.0.0.1; using 192.168.1.59 instead (on interface en0)\n",
      "23/12/25 17:46:54 WARN Utils: Set SPARK_LOCAL_IP if you need to bind to another address\n",
      "Setting default log level to \"WARN\".\n",
      "To adjust logging level use sc.setLogLevel(newLevel). For SparkR, use setLogLevel(newLevel).\n",
      "23/12/25 17:46:55 WARN NativeCodeLoader: Unable to load native-hadoop library for your platform... using builtin-java classes where applicable\n"
     ]
    }
   ],
   "source": [
    "spark = sp.builder.appName(\"SF_FIRE_CALLS\").getOrCreate()"
   ],
   "metadata": {
    "collapsed": false,
    "ExecuteTime": {
     "end_time": "2023-12-25T12:16:56.501223Z",
     "start_time": "2023-12-25T12:16:52.832712Z"
    }
   },
   "id": "de8e435169c01892"
  },
  {
   "cell_type": "code",
   "execution_count": 3,
   "outputs": [],
   "source": [
    "df = spark.read.format(\"csv\").option(\"header\", \"true\").option(\"inferScheme\", \"true\").load(\"sf-fire-calls.csv\")"
   ],
   "metadata": {
    "collapsed": false,
    "ExecuteTime": {
     "end_time": "2023-12-25T12:16:59.798150Z",
     "start_time": "2023-12-25T12:16:56.504417Z"
    }
   },
   "id": "a68bb77c05563ff1"
  },
  {
   "cell_type": "code",
   "execution_count": 4,
   "outputs": [
    {
     "data": {
      "text/plain": "175296"
     },
     "execution_count": 4,
     "metadata": {},
     "output_type": "execute_result"
    }
   ],
   "source": [
    "df.count()"
   ],
   "metadata": {
    "collapsed": false,
    "ExecuteTime": {
     "end_time": "2023-12-25T12:17:00.618552Z",
     "start_time": "2023-12-25T12:16:59.800489Z"
    }
   },
   "id": "384223b614dc776"
  },
  {
   "cell_type": "code",
   "execution_count": 5,
   "outputs": [
    {
     "name": "stdout",
     "output_type": "stream",
     "text": [
      "root\n",
      " |-- CallNumber: string (nullable = true)\n",
      " |-- UnitID: string (nullable = true)\n",
      " |-- IncidentNumber: string (nullable = true)\n",
      " |-- CallType: string (nullable = true)\n",
      " |-- CallDate: string (nullable = true)\n",
      " |-- WatchDate: string (nullable = true)\n",
      " |-- CallFinalDisposition: string (nullable = true)\n",
      " |-- AvailableDtTm: string (nullable = true)\n",
      " |-- Address: string (nullable = true)\n",
      " |-- City: string (nullable = true)\n",
      " |-- Zipcode: string (nullable = true)\n",
      " |-- Battalion: string (nullable = true)\n",
      " |-- StationArea: string (nullable = true)\n",
      " |-- Box: string (nullable = true)\n",
      " |-- OriginalPriority: string (nullable = true)\n",
      " |-- Priority: string (nullable = true)\n",
      " |-- FinalPriority: string (nullable = true)\n",
      " |-- ALSUnit: string (nullable = true)\n",
      " |-- CallTypeGroup: string (nullable = true)\n",
      " |-- NumAlarms: string (nullable = true)\n",
      " |-- UnitType: string (nullable = true)\n",
      " |-- UnitSequenceInCallDispatch: string (nullable = true)\n",
      " |-- FirePreventionDistrict: string (nullable = true)\n",
      " |-- SupervisorDistrict: string (nullable = true)\n",
      " |-- Neighborhood: string (nullable = true)\n",
      " |-- Location: string (nullable = true)\n",
      " |-- RowID: string (nullable = true)\n",
      " |-- Delay: string (nullable = true)\n"
     ]
    }
   ],
   "source": [
    "df.printSchema()"
   ],
   "metadata": {
    "collapsed": false,
    "ExecuteTime": {
     "end_time": "2023-12-25T12:17:00.623095Z",
     "start_time": "2023-12-25T12:17:00.614699Z"
    }
   },
   "id": "d5d3605b79da4eb2"
  },
  {
   "cell_type": "code",
   "execution_count": 6,
   "outputs": [
    {
     "name": "stderr",
     "output_type": "stream",
     "text": [
      "                                                                                \r"
     ]
    },
    {
     "data": {
      "text/plain": "30"
     },
     "execution_count": 6,
     "metadata": {},
     "output_type": "execute_result"
    }
   ],
   "source": [
    "df.select('CallType').where(F.col('CallType').isNotNull()).distinct().count()\n",
    "# OR\n",
    "# df.select('CallType').distinct().count()"
   ],
   "metadata": {
    "collapsed": false,
    "ExecuteTime": {
     "end_time": "2023-12-25T12:17:02.172504Z",
     "start_time": "2023-12-25T12:17:00.621983Z"
    }
   },
   "id": "542ed64992c9c6ba"
  },
  {
   "cell_type": "code",
   "execution_count": 7,
   "outputs": [],
   "source": [
    "# Convert The DateTime Format to Proper Time Format in spark.\n",
    "fire_df = (\n",
    "    df\n",
    "    .withColumn(\"IncidentDate\", F.to_timestamp(F.col(\"CallDate\"),\"MM/dd/yyyy\")).drop('CallDate')\n",
    "    .withColumn(\"OnWatchDate\", F.to_timestamp(F.col(\"WatchDate\"),\"MM/dd/yyyy\")).drop('WatchDate')\n",
    "    .withColumn(\"AvailableDtTS\", F.to_timestamp(F.col(\"AvailableDtTm\"),\"MM/dd/yyyy hh:mm:ss a\")).drop('AvailableDtTm')\n",
    ")"
   ],
   "metadata": {
    "collapsed": false,
    "ExecuteTime": {
     "end_time": "2023-12-25T12:17:02.303383Z",
     "start_time": "2023-12-25T12:17:02.173630Z"
    }
   },
   "id": "69a6d796520d9369"
  },
  {
   "cell_type": "code",
   "execution_count": 8,
   "outputs": [
    {
     "name": "stdout",
     "output_type": "stream",
     "text": [
      "+----------+------+--------------+----------------+--------------------+---------------------------+----+-------+---------+-----------+----+----------------+--------+-------------+-------+-------------+---------+--------+--------------------------+----------------------+------------------+------------------------------+-------------------------------------+-------------+---------+-------------------+-------------------+-------------------+\n",
      "|CallNumber|UnitID|IncidentNumber|CallType        |CallFinalDisposition|Address                    |City|Zipcode|Battalion|StationArea|Box |OriginalPriority|Priority|FinalPriority|ALSUnit|CallTypeGroup|NumAlarms|UnitType|UnitSequenceInCallDispatch|FirePreventionDistrict|SupervisorDistrict|Neighborhood                  |Location                             |RowID        |Delay    |IncidentDate       |OnWatchDate        |AvailableDtTS      |\n",
      "+----------+------+--------------+----------------+--------------------+---------------------------+----+-------+---------+-----------+----+----------------+--------+-------------+-------+-------------+---------+--------+--------------------------+----------------------+------------------+------------------------------+-------------------------------------+-------------+---------+-------------------+-------------------+-------------------+\n",
      "|20110016  |T13   |2003235       |Structure Fire  |Other               |2000 Block of CALIFORNIA ST|SF  |94109  |B04      |38         |3362|3               |3       |3            |false  |NULL         |1        |TRUCK   |2                         |4                     |5                 |Pacific Heights               |(37.7895840679362, -122.428071912459)|020110016-T13|2.95     |2002-01-11 00:00:00|2002-01-10 00:00:00|2002-01-11 01:51:44|\n",
      "|20110022  |M17   |2003241       |Medical Incident|Other               |0 Block of SILVERVIEW DR   |SF  |94124  |B10      |42         |6495|3               |3       |3            |true   |NULL         |1        |MEDIC   |1                         |10                    |10                |Bayview Hunters Point         |(37.7337623673897, -122.396113802632)|020110022-M17|4.7      |2002-01-11 00:00:00|2002-01-10 00:00:00|2002-01-11 03:01:18|\n",
      "|20110023  |M41   |2003242       |Medical Incident|Other               |MARKET ST/MCALLISTER ST    |SF  |94102  |B03      |01         |1455|3               |3       |3            |true   |NULL         |1        |MEDIC   |2                         |3                     |6                 |Tenderloin                    |(37.7811772186856, -122.411699931232)|020110023-M41|2.4333334|2002-01-11 00:00:00|2002-01-10 00:00:00|2002-01-11 02:39:50|\n",
      "|20110032  |E11   |2003250       |Vehicle Fire    |Other               |APPLETON AV/MISSION ST     |SF  |94110  |B06      |32         |5626|3               |3       |3            |false  |NULL         |1        |ENGINE  |1                         |6                     |9                 |Bernal Heights                |(37.7388432849018, -122.423948785199)|020110032-E11|1.5      |2002-01-11 00:00:00|2002-01-10 00:00:00|2002-01-11 04:16:46|\n",
      "|20110043  |B04   |2003259       |Alarms          |Other               |1400 Block of SUTTER ST    |SF  |94109  |B04      |03         |3223|3               |3       |3            |false  |NULL         |1        |CHIEF   |2                         |4                     |2                 |Western Addition              |(37.7872890372638, -122.424236212664)|020110043-B04|3.4833333|2002-01-11 00:00:00|2002-01-10 00:00:00|2002-01-11 06:01:58|\n",
      "|20110072  |T08   |2003279       |Structure Fire  |Other               |BEALE ST/FOLSOM ST         |SF  |94105  |B03      |35         |2122|3               |3       |3            |false  |NULL         |1        |TRUCK   |2                         |3                     |6                 |Financial District/South Beach|(37.7886866619654, -122.392722833778)|020110072-T08|1.75     |2002-01-11 00:00:00|2002-01-11 00:00:00|2002-01-11 08:03:26|\n",
      "|20110125  |E33   |2003301       |Alarms          |Other               |0 Block of FARALLONES ST   |SF  |94112  |B09      |33         |8324|3               |3       |3            |false  |NULL         |1        |ENGINE  |2                         |9                     |11                |Oceanview/Merced/Ingleside    |(37.7140353531157, -122.454117149916)|020110125-E33|2.7166667|2002-01-11 00:00:00|2002-01-11 00:00:00|2002-01-11 09:46:44|\n",
      "|20110130  |E36   |2003304       |Alarms          |Other               |600 Block of POLK ST       |SF  |94102  |B02      |03         |3114|3               |3       |3            |false  |NULL         |1        |ENGINE  |1                         |2                     |6                 |Tenderloin                    |(37.7826266328595, -122.41915582123) |020110130-E36|1.7833333|2002-01-11 00:00:00|2002-01-11 00:00:00|2002-01-11 09:58:53|\n",
      "|20110197  |E05   |2003343       |Medical Incident|Other               |1500 Block of WEBSTER ST   |SF  |94115  |B04      |05         |3513|3               |3       |3            |false  |NULL         |1        |ENGINE  |1                         |4                     |5                 |Japantown                     |(37.784958590666, -122.431435274503) |020110197-E05|1.5166667|2002-01-11 00:00:00|2002-01-11 00:00:00|2002-01-11 12:06:57|\n",
      "|20110215  |E06   |2003348       |Medical Incident|Other               |DIAMOND ST/MARKET ST       |SF  |94114  |B05      |06         |5415|3               |3       |3            |false  |NULL         |1        |ENGINE  |1                         |5                     |8                 |Castro/Upper Market           |(37.7618954753708, -122.437298717721)|020110215-E06|2.7666667|2002-01-11 00:00:00|2002-01-11 00:00:00|2002-01-11 13:08:40|\n",
      "+----------+------+--------------+----------------+--------------------+---------------------------+----+-------+---------+-----------+----+----------------+--------+-------------+-------+-------------+---------+--------+--------------------------+----------------------+------------------+------------------------------+-------------------------------------+-------------+---------+-------------------+-------------------+-------------------+\n"
     ]
    },
    {
     "name": "stderr",
     "output_type": "stream",
     "text": [
      "23/12/25 17:47:02 WARN SparkStringUtils: Truncated the string representation of a plan since it was too large. This behavior can be adjusted by setting 'spark.sql.debug.maxToStringFields'.\n"
     ]
    }
   ],
   "source": [
    "fire_df.show(10, truncate=False)"
   ],
   "metadata": {
    "collapsed": false,
    "ExecuteTime": {
     "end_time": "2023-12-25T12:17:02.587409Z",
     "start_time": "2023-12-25T12:17:02.305631Z"
    }
   },
   "id": "20aa7ca91916d912"
  },
  {
   "cell_type": "code",
   "execution_count": 9,
   "outputs": [
    {
     "name": "stderr",
     "output_type": "stream",
     "text": [
      "[Stage 11:=======>                                                  (1 + 7) / 8]\r"
     ]
    },
    {
     "name": "stdout",
     "output_type": "stream",
     "text": [
      "+------------------+\n",
      "|year(IncidentDate)|\n",
      "+------------------+\n",
      "|              2018|\n",
      "|              2017|\n",
      "|              2016|\n",
      "|              2015|\n",
      "|              2014|\n",
      "|              2013|\n",
      "|              2012|\n",
      "|              2011|\n",
      "|              2010|\n",
      "|              2009|\n",
      "|              2008|\n",
      "|              2007|\n",
      "|              2006|\n",
      "|              2005|\n",
      "|              2004|\n",
      "|              2003|\n",
      "|              2002|\n",
      "|              2001|\n",
      "|              2000|\n",
      "+------------------+\n"
     ]
    },
    {
     "name": "stderr",
     "output_type": "stream",
     "text": [
      "                                                                                \r"
     ]
    }
   ],
   "source": [
    "fire_df.select(F.year('IncidentDate')).distinct().orderBy(F.year('IncidentDate'), ascending=False).show()"
   ],
   "metadata": {
    "collapsed": false,
    "ExecuteTime": {
     "end_time": "2023-12-25T12:17:04.080284Z",
     "start_time": "2023-12-25T12:17:02.588117Z"
    }
   },
   "id": "2ecc44b960a6766b"
  },
  {
   "cell_type": "code",
   "execution_count": 10,
   "outputs": [
    {
     "name": "stdout",
     "output_type": "stream",
     "text": [
      "+----------------------+\n",
      "|CallType              |\n",
      "+----------------------+\n",
      "|Administrative        |\n",
      "|Watercraft in Distress|\n",
      "+----------------------+\n"
     ]
    }
   ],
   "source": [
    "# print(fire_df.select(F.year('IncidentDate')).show())\n",
    "fire_df.select('CallType').distinct().where(F.year('IncidentDate') == 2006).show(truncate=False)"
   ],
   "metadata": {
    "collapsed": false,
    "ExecuteTime": {
     "end_time": "2023-12-25T12:17:04.669794Z",
     "start_time": "2023-12-25T12:17:04.083945Z"
    }
   },
   "id": "bf9295a11404099c"
  },
  {
   "cell_type": "code",
   "execution_count": 11,
   "outputs": [
    {
     "name": "stdout",
     "output_type": "stream",
     "text": [
      "+------------------+\n",
      "|year(IncidentDate)|\n",
      "+------------------+\n",
      "|              2000|\n",
      "|              2001|\n",
      "|              2002|\n",
      "|              2003|\n",
      "|              2004|\n",
      "|              2005|\n",
      "|              2006|\n",
      "|              2007|\n",
      "|              2008|\n",
      "|              2009|\n",
      "|              2010|\n",
      "|              2011|\n",
      "|              2012|\n",
      "|              2013|\n",
      "|              2014|\n",
      "|              2015|\n",
      "|              2016|\n",
      "|              2017|\n",
      "|              2018|\n",
      "+------------------+\n"
     ]
    }
   ],
   "source": [
    "fire_df.select(F.year('IncidentDate')).distinct().orderBy(F.year('IncidentDate')).show()"
   ],
   "metadata": {
    "collapsed": false,
    "ExecuteTime": {
     "end_time": "2023-12-25T12:17:05.110086Z",
     "start_time": "2023-12-25T12:17:04.664399Z"
    }
   },
   "id": "86308bda8a4a8fd9"
  },
  {
   "cell_type": "markdown",
   "source": [
    " # Read The CSV data in a new methodology, to validate previous approach of reading and scaning Data.\n",
    " # Define a new Schema.\n",
    " # Read the CSV alongside the newly defined schema.\n",
    " # Programmatic way to define a schema. "
   ],
   "metadata": {
    "collapsed": false
   },
   "id": "d0f2a898ff7e4178"
  },
  {
   "cell_type": "code",
   "execution_count": 12,
   "outputs": [],
   "source": [
    "# Schema\n",
    "fire_schema = StructType([StructField('CallNumber', IntegerType(), True),\n",
    "                          StructField('UnitID', StringType(), True),\n",
    "                          StructField('IncidentNumber', IntegerType(), True),\n",
    "                          StructField('CallType', StringType(), True),\n",
    "                          StructField('CallDate', StringType(), True),\n",
    "                          StructField('WatchDate', StringType(), True),\n",
    "                          StructField('CallFinalDisposition', StringType(), True),\n",
    "                          StructField('AvailableDtTm', StringType(), True),\n",
    "                          StructField('Address', StringType(), True),\n",
    "                          StructField('City', StringType(), True),\n",
    "                          StructField('Zipcode', IntegerType(), True),\n",
    "                          StructField('Battalion', StringType(), True),\n",
    "                          StructField('StationArea', StringType(), True),\n",
    "                          StructField('Box', StringType(), True),\n",
    "                          StructField('OriginalPriority', StringType(), True),\n",
    "                          StructField('Priority', StringType(), True),\n",
    "                          StructField('FinalPriority', IntegerType(), True),\n",
    "                          StructField('ALSUnit', BooleanType(), True),\n",
    "                          StructField('CallTypeGroup', StringType(), True),\n",
    "                          StructField('NumAlarms', IntegerType(), True),\n",
    "                          StructField('UnitType', StringType(), True),\n",
    "                          StructField('UnitSequenceInCallDispatch', IntegerType(), True),\n",
    "                          StructField('FirePreventionDistrict', StringType(), True),\n",
    "                          StructField('SupervisorDistrict', StringType(), True),\n",
    "                          StructField('Neighborhood', StringType(), True),\n",
    "                          StructField('Location', StringType(), True),\n",
    "                          StructField('RowID', StringType(), True),\n",
    "                          StructField('Delay', FloatType(), True)])\n"
   ],
   "metadata": {
    "collapsed": false,
    "ExecuteTime": {
     "end_time": "2023-12-25T12:17:05.120966Z",
     "start_time": "2023-12-25T12:17:05.115833Z"
    }
   },
   "id": "dad7d266edfb7bac"
  },
  {
   "cell_type": "code",
   "execution_count": 13,
   "outputs": [],
   "source": [
    "dfn = spark.read.csv('sf-fire-calls.csv', header=True,schema=fire_schema)"
   ],
   "metadata": {
    "collapsed": false,
    "ExecuteTime": {
     "end_time": "2023-12-25T12:17:05.205364Z",
     "start_time": "2023-12-25T12:17:05.123232Z"
    }
   },
   "id": "a898ae7ee4d70533"
  },
  {
   "cell_type": "code",
   "execution_count": 14,
   "outputs": [
    {
     "data": {
      "text/plain": "175296"
     },
     "execution_count": 14,
     "metadata": {},
     "output_type": "execute_result"
    }
   ],
   "source": [
    "dfn.count()"
   ],
   "metadata": {
    "collapsed": false,
    "ExecuteTime": {
     "end_time": "2023-12-25T12:17:05.339237Z",
     "start_time": "2023-12-25T12:17:05.171597Z"
    }
   },
   "id": "1520068b3b4b1a24"
  },
  {
   "cell_type": "code",
   "execution_count": 15,
   "outputs": [],
   "source": [
    "fire_dfn = (\n",
    "    dfn\n",
    "    .withColumn(\"IncidentDate\", F.to_timestamp(F.col(\"CallDate\"),\"MM/dd/yyyy\")).drop('CallDate')\n",
    "    .withColumn(\"OnWatchDate\", F.to_timestamp(F.col(\"WatchDate\"),\"MM/dd/yyyy\")).drop('WatchDate')\n",
    "    .withColumn(\"AvailableDtTS\", F.to_timestamp(F.col(\"AvailableDtTm\"),\"MM/dd/yyyy hh:mm:ss a\")).drop('AvailableDtTm')\n",
    ")"
   ],
   "metadata": {
    "collapsed": false,
    "ExecuteTime": {
     "end_time": "2023-12-25T12:17:05.420861Z",
     "start_time": "2023-12-25T12:17:05.338887Z"
    }
   },
   "id": "377ecc35c6e3b016"
  },
  {
   "cell_type": "code",
   "execution_count": null,
   "outputs": [],
   "source": [
    "fire_dfn.select(F.year('IncidentDate')).distinct().orderBy(F.year('IncidentDate'), ascending=True).show()"
   ],
   "metadata": {
    "collapsed": false
   },
   "id": "86f1db9ec3adff19"
  },
  {
   "cell_type": "markdown",
   "source": [
    "# What were all the different types of fire calls in 2018?"
   ],
   "metadata": {
    "collapsed": false
   },
   "id": "977c6b1fe05a75b7"
  },
  {
   "cell_type": "code",
   "execution_count": null,
   "outputs": [],
   "source": [
    "fire_dfn.select('CallType').where(F.year('IncidentDate') == 2018 ).distinct().show(truncate=False)"
   ],
   "metadata": {
    "collapsed": false
   },
   "id": "c5601f2ee177d234"
  },
  {
   "cell_type": "markdown",
   "source": [
    "# What months within the year 2018 saw the highest number of fire calls?"
   ],
   "metadata": {
    "collapsed": false
   },
   "id": "a9be68d3132e5289"
  },
  {
   "cell_type": "code",
   "execution_count": null,
   "outputs": [],
   "source": [
    "(\n",
    "     fire_dfn\n",
    "     .where(F.year('IncidentDate') == 2018)\n",
    "     .groupBy(F.month('IncidentDate')\n",
    "     .alias('Incident_Month'))\n",
    "     .max('IncidentNumber')\n",
    "     .orderBy('max(IncidentNumber)', ascending=False)\n",
    "     .show(5)\n",
    " )"
   ],
   "metadata": {
    "collapsed": false
   },
   "id": "b02bb84c6618cf87"
  },
  {
   "cell_type": "code",
   "execution_count": null,
   "outputs": [],
   "source": [
    "#  Validation of above Result\n",
    "(fire_dfn.select('IncidentNumber').where((F.year('IncidentDate') == 2018) & (F.month('IncidentDate') == 11)).distinct()\n",
    " .orderBy('IncidentNumber', ascending=False)\n",
    " .show(3,truncate=False))"
   ],
   "metadata": {
    "collapsed": false
   },
   "id": "5562b359b45579d3"
  },
  {
   "cell_type": "markdown",
   "source": [
    "# Which neighborhood in San Francisco generated the most fire calls in 2018?"
   ],
   "metadata": {
    "collapsed": false
   },
   "id": "81ba20a0e15a35ff"
  },
  {
   "cell_type": "code",
   "execution_count": null,
   "outputs": [],
   "source": [
    "(\n",
    "    fire_dfn\n",
    "    .where(F.year('IncidentDate') == 2018)\n",
    "    .groupBy('Neighborhood')\n",
    "    .max('IncidentNumber')\n",
    "    .orderBy('max(IncidentNumber)',ascending=False)\n",
    "    .show(10, truncate=False)\n",
    ")"
   ],
   "metadata": {
    "collapsed": false
   },
   "id": "fbe0782a606afe9c"
  },
  {
   "cell_type": "markdown",
   "source": [
    "# Which neighborhoods had the worst response times to fire calls in 2018?"
   ],
   "metadata": {
    "collapsed": false
   },
   "id": "30df9e1ab0075557"
  },
  {
   "cell_type": "code",
   "execution_count": null,
   "outputs": [],
   "source": [
    "(\n",
    "    fire_dfn\n",
    "    .where(F.year('IncidentDate') == 2018)\n",
    "    .groupBy('Neighborhood')\n",
    "    .max('Delay')\n",
    "    .orderBy('max(Delay)',ascending=False)\n",
    "    .show(10,truncate=False)\n",
    ")"
   ],
   "metadata": {
    "collapsed": false
   },
   "id": "e193c98a43c5533b"
  },
  {
   "cell_type": "markdown",
   "source": [
    "# Which week in the year in 2018 had the most fire calls?"
   ],
   "metadata": {
    "collapsed": false
   },
   "id": "ed199e0f97ff2a9f"
  },
  {
   "cell_type": "code",
   "execution_count": null,
   "outputs": [],
   "source": [
    "(\n",
    "    fire_dfn\n",
    "    .where(F.year('IncidentDate')==2017)\n",
    "    .groupBy(F.weekofyear('IncidentDate'))\n",
    "    .max('IncidentNumber')\n",
    "    .orderBy('max(IncidentNumber)',ascending=False)\n",
    "    .show(10, False)\n",
    ")"
   ],
   "metadata": {
    "collapsed": false
   },
   "id": "3478f8627a1bf628"
  }
 ],
 "metadata": {
  "kernelspec": {
   "display_name": "Python 3",
   "language": "python",
   "name": "python3"
  },
  "language_info": {
   "codemirror_mode": {
    "name": "ipython",
    "version": 2
   },
   "file_extension": ".py",
   "mimetype": "text/x-python",
   "name": "python",
   "nbconvert_exporter": "python",
   "pygments_lexer": "ipython2",
   "version": "2.7.6"
  }
 },
 "nbformat": 4,
 "nbformat_minor": 5
}

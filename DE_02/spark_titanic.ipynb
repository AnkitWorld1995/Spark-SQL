{
 "cells": [
  {
   "cell_type": "code",
   "execution_count": 1,
   "id": "initial_id",
   "metadata": {
    "collapsed": true,
    "ExecuteTime": {
     "end_time": "2023-12-10T05:48:09.211733Z",
     "start_time": "2023-12-10T05:48:09.064390Z"
    }
   },
   "outputs": [],
   "source": [
    "from pyspark.sql import SparkSession\n",
    "from pyspark.sql.types import *\n",
    "from pyspark.sql.functions import col\n",
    "from pyspark.sql.functions import avg\n",
    "from pyspark.sql.functions import expr\n",
    "import pyspark.sql.functions as F\n"
   ]
  },
  {
   "cell_type": "code",
   "execution_count": 2,
   "outputs": [
    {
     "name": "stderr",
     "output_type": "stream",
     "text": [
      "23/12/10 11:18:14 WARN Utils: Your hostname, Sivas-MacBook-Air.local resolves to a loopback address: 127.0.0.1; using 192.168.1.5 instead (on interface en0)\n",
      "23/12/10 11:18:14 WARN Utils: Set SPARK_LOCAL_IP if you need to bind to another address\n",
      "Setting default log level to \"WARN\".\n",
      "To adjust logging level use sc.setLogLevel(newLevel). For SparkR, use setLogLevel(newLevel).\n",
      "23/12/10 11:18:15 WARN NativeCodeLoader: Unable to load native-hadoop library for your platform... using builtin-java classes where applicable\n"
     ]
    }
   ],
   "source": [
    "spark = SparkSession.builder.appName(\"SPARK_TITANIC_01\").getOrCreate()"
   ],
   "metadata": {
    "collapsed": false,
    "ExecuteTime": {
     "end_time": "2023-12-10T05:48:16.001313Z",
     "start_time": "2023-12-10T05:48:12.670076Z"
    }
   },
   "id": "52fbb01e60a27173"
  },
  {
   "cell_type": "code",
   "execution_count": 3,
   "outputs": [],
   "source": [
    "df = spark.read.format(\"csv\").option(\"header\", \"true\").option(\"inferSchema\", \"true\").load(\"titanic_dataset.csv\")"
   ],
   "metadata": {
    "collapsed": false,
    "ExecuteTime": {
     "end_time": "2023-12-10T05:48:21.507125Z",
     "start_time": "2023-12-10T05:48:17.913175Z"
    }
   },
   "id": "32b9c22972133ecf"
  },
  {
   "cell_type": "code",
   "execution_count": 4,
   "outputs": [
    {
     "data": {
      "text/plain": "891"
     },
     "execution_count": 4,
     "metadata": {},
     "output_type": "execute_result"
    }
   ],
   "source": [
    "# df.show(200)\n",
    "df.count()"
   ],
   "metadata": {
    "collapsed": false,
    "ExecuteTime": {
     "end_time": "2023-12-10T05:48:23.885896Z",
     "start_time": "2023-12-10T05:48:23.415881Z"
    }
   },
   "id": "64e437c533b32699"
  },
  {
   "cell_type": "code",
   "execution_count": 5,
   "outputs": [],
   "source": [
    "# Filter Data which has Null Age\n",
    "filtered_df = df.filter(\"Age is not null\")\n"
   ],
   "metadata": {
    "collapsed": false,
    "ExecuteTime": {
     "end_time": "2023-12-10T05:48:32.720512Z",
     "start_time": "2023-12-10T05:48:32.686640Z"
    }
   },
   "id": "42b980254e111ac9"
  },
  {
   "cell_type": "code",
   "execution_count": 5,
   "outputs": [
    {
     "name": "stdout",
     "output_type": "stream",
     "text": [
      "+-----------+--------+------+----------------+----+----+-----+-----+------+------+-----+--------+\n",
      "|PassengerId|Survived|Pclass|            Name| Sex| Age|SibSp|Parch|Ticket|  Fare|Cabin|Embarked|\n",
      "+-----------+--------+------+----------------+----+----+-----+-----+------+------+-----+--------+\n",
      "|        295|       0|     3|Mineff, Mr. Ivan|male|24.0|    0|    0|349233|7.8958| NULL|       S|\n",
      "+-----------+--------+------+----------------+----+----+-----+-----+------+------+-----+--------+\n"
     ]
    }
   ],
   "source": [
    "filtered_df.select('*').where(filtered_df.PassengerId == '295').show()\n",
    "# filtered_df.count()"
   ],
   "metadata": {
    "collapsed": false,
    "ExecuteTime": {
     "end_time": "2023-12-09T06:08:04.419337Z",
     "start_time": "2023-12-09T06:08:03.985738Z"
    }
   },
   "id": "2c8f53ac72a94f14"
  },
  {
   "cell_type": "code",
   "execution_count": 6,
   "outputs": [
    {
     "name": "stdout",
     "output_type": "stream",
     "text": [
      "+-----------+--------+------+--------------------+----+----+-----+-----+---------+----+-----+--------+\n",
      "|PassengerId|Survived|Pclass|                Name| Sex| Age|SibSp|Parch|   Ticket|Fare|Cabin|Embarked|\n",
      "+-----------+--------+------+--------------------+----+----+-----+-----+---------+----+-----+--------+\n",
      "|          1|       0|     3|Braund, Mr. Owen ...|male|22.0|    1|    0|A/5 21171|7.25| NULL|       S|\n",
      "+-----------+--------+------+--------------------+----+----+-----+-----+---------+----+-----+--------+\n"
     ]
    }
   ],
   "source": [
    "filtered_df.select('*').where(filtered_df.Ticket == 'A/5 21171').show()"
   ],
   "metadata": {
    "collapsed": false,
    "ExecuteTime": {
     "end_time": "2023-12-09T06:29:08.498473Z",
     "start_time": "2023-12-09T06:29:08.231509Z"
    }
   },
   "id": "5c56c6a52762984e"
  },
  {
   "cell_type": "code",
   "execution_count": 29,
   "outputs": [
    {
     "data": {
      "text/plain": "[Row(PassengerId=2, Survived=1, Pclass=1, Name='Cumings, Mrs. John Bradley (Florence Briggs Thayer)', Sex='female', Age=38.0, SibSp=1, Parch=0, Ticket='PC 17599', Fare=71.2833, Cabin='C85', Embarked='C'),\n Row(PassengerId=3, Survived=1, Pclass=3, Name='Heikkinen, Miss. Laina', Sex='female', Age=26.0, SibSp=0, Parch=0, Ticket='STON/O2. 3101282', Fare=7.925, Cabin=None, Embarked='S'),\n Row(PassengerId=4, Survived=1, Pclass=1, Name='Futrelle, Mrs. Jacques Heath (Lily May Peel)', Sex='female', Age=35.0, SibSp=1, Parch=0, Ticket='113803', Fare=53.1, Cabin='C123', Embarked='S'),\n Row(PassengerId=9, Survived=1, Pclass=3, Name='Johnson, Mrs. Oscar W (Elisabeth Vilhelmina Berg)', Sex='female', Age=27.0, SibSp=0, Parch=2, Ticket='347742', Fare=11.1333, Cabin=None, Embarked='S'),\n Row(PassengerId=10, Survived=1, Pclass=2, Name='Nasser, Mrs. Nicholas (Adele Achem)', Sex='female', Age=14.0, SibSp=1, Parch=0, Ticket='237736', Fare=30.0708, Cabin=None, Embarked='C'),\n Row(PassengerId=11, Survived=1, Pclass=3, Name='Sandstrom, Miss. Marguerite Rut', Sex='female', Age=4.0, SibSp=1, Parch=1, Ticket='PP 9549', Fare=16.7, Cabin='G6', Embarked='S'),\n Row(PassengerId=12, Survived=1, Pclass=1, Name='Bonnell, Miss. Elizabeth', Sex='female', Age=58.0, SibSp=0, Parch=0, Ticket='113783', Fare=26.55, Cabin='C103', Embarked='S'),\n Row(PassengerId=16, Survived=1, Pclass=2, Name='Hewlett, Mrs. (Mary D Kingcome) ', Sex='female', Age=55.0, SibSp=0, Parch=0, Ticket='248706', Fare=16.0, Cabin=None, Embarked='S'),\n Row(PassengerId=22, Survived=1, Pclass=2, Name='Beesley, Mr. Lawrence', Sex='male', Age=34.0, SibSp=0, Parch=0, Ticket='248698', Fare=13.0, Cabin='D56', Embarked='S'),\n Row(PassengerId=23, Survived=1, Pclass=3, Name='\"McGowan, Miss. Anna \"\"Annie\"\"\"', Sex='female', Age=15.0, SibSp=0, Parch=0, Ticket='330923', Fare=8.0292, Cabin=None, Embarked='Q'),\n Row(PassengerId=24, Survived=1, Pclass=1, Name='Sloper, Mr. William Thompson', Sex='male', Age=28.0, SibSp=0, Parch=0, Ticket='113788', Fare=35.5, Cabin='A6', Embarked='S'),\n Row(PassengerId=26, Survived=1, Pclass=3, Name='Asplund, Mrs. Carl Oscar (Selma Augusta Emilia Johansson)', Sex='female', Age=38.0, SibSp=1, Parch=5, Ticket='347077', Fare=31.3875, Cabin=None, Embarked='S'),\n Row(PassengerId=40, Survived=1, Pclass=3, Name='Nicola-Yarred, Miss. Jamila', Sex='female', Age=14.0, SibSp=1, Parch=0, Ticket='2651', Fare=11.2417, Cabin=None, Embarked='C'),\n Row(PassengerId=44, Survived=1, Pclass=2, Name='Laroche, Miss. Simonne Marie Anne Andree', Sex='female', Age=3.0, SibSp=1, Parch=2, Ticket='SC/Paris 2123', Fare=41.5792, Cabin=None, Embarked='C'),\n Row(PassengerId=45, Survived=1, Pclass=3, Name='Devaney, Miss. Margaret Delia', Sex='female', Age=19.0, SibSp=0, Parch=0, Ticket='330958', Fare=7.8792, Cabin=None, Embarked='Q'),\n Row(PassengerId=53, Survived=1, Pclass=1, Name='Harper, Mrs. Henry Sleeper (Myna Haxtun)', Sex='female', Age=49.0, SibSp=1, Parch=0, Ticket='PC 17572', Fare=76.7292, Cabin='D33', Embarked='C'),\n Row(PassengerId=54, Survived=1, Pclass=2, Name='Faunthorpe, Mrs. Lizzie (Elizabeth Anne Wilkinson)', Sex='female', Age=29.0, SibSp=1, Parch=0, Ticket='2926', Fare=26.0, Cabin=None, Embarked='S'),\n Row(PassengerId=57, Survived=1, Pclass=2, Name='Rugg, Miss. Emily', Sex='female', Age=21.0, SibSp=0, Parch=0, Ticket='C.A. 31026', Fare=10.5, Cabin=None, Embarked='S'),\n Row(PassengerId=59, Survived=1, Pclass=2, Name='West, Miss. Constance Mirium', Sex='female', Age=5.0, SibSp=1, Parch=2, Ticket='C.A. 34651', Fare=27.75, Cabin=None, Embarked='S'),\n Row(PassengerId=62, Survived=1, Pclass=1, Name='Icard, Miss. Amelie', Sex='female', Age=38.0, SibSp=0, Parch=0, Ticket='113572', Fare=80.0, Cabin='B28', Embarked=None),\n Row(PassengerId=67, Survived=1, Pclass=2, Name='Nye, Mrs. (Elizabeth Ramell)', Sex='female', Age=29.0, SibSp=0, Parch=0, Ticket='C.A. 29395', Fare=10.5, Cabin='F33', Embarked='S'),\n Row(PassengerId=69, Survived=1, Pclass=3, Name='Andersson, Miss. Erna Alexandra', Sex='female', Age=17.0, SibSp=4, Parch=2, Ticket='3101281', Fare=7.925, Cabin=None, Embarked='S'),\n Row(PassengerId=75, Survived=1, Pclass=3, Name='Bing, Mr. Lee', Sex='male', Age=32.0, SibSp=0, Parch=0, Ticket='1601', Fare=56.4958, Cabin=None, Embarked='S'),\n Row(PassengerId=79, Survived=1, Pclass=2, Name='Caldwell, Master. Alden Gates', Sex='male', Age=0.83, SibSp=0, Parch=2, Ticket='248738', Fare=29.0, Cabin=None, Embarked='S'),\n Row(PassengerId=80, Survived=1, Pclass=3, Name='Dowdell, Miss. Elizabeth', Sex='female', Age=30.0, SibSp=0, Parch=0, Ticket='364516', Fare=12.475, Cabin=None, Embarked='S'),\n Row(PassengerId=82, Survived=1, Pclass=3, Name='Sheerlinck, Mr. Jan Baptist', Sex='male', Age=29.0, SibSp=0, Parch=0, Ticket='345779', Fare=9.5, Cabin=None, Embarked='S'),\n Row(PassengerId=85, Survived=1, Pclass=2, Name='Ilett, Miss. Bertha', Sex='female', Age=17.0, SibSp=0, Parch=0, Ticket='SO/C 14885', Fare=10.5, Cabin=None, Embarked='S'),\n Row(PassengerId=86, Survived=1, Pclass=3, Name='Backstrom, Mrs. Karl Alfred (Maria Mathilda Gustafsson)', Sex='female', Age=33.0, SibSp=3, Parch=0, Ticket='3101278', Fare=15.85, Cabin=None, Embarked='S'),\n Row(PassengerId=89, Survived=1, Pclass=1, Name='Fortune, Miss. Mabel Helen', Sex='female', Age=23.0, SibSp=3, Parch=2, Ticket='19950', Fare=263.0, Cabin='C23 C25 C27', Embarked='S'),\n Row(PassengerId=98, Survived=1, Pclass=1, Name='Greenfield, Mr. William Bertram', Sex='male', Age=23.0, SibSp=0, Parch=1, Ticket='PC 17759', Fare=63.3583, Cabin='D10 D12', Embarked='C'),\n Row(PassengerId=99, Survived=1, Pclass=2, Name='Doling, Mrs. John T (Ada Julia Bone)', Sex='female', Age=34.0, SibSp=0, Parch=1, Ticket='231919', Fare=23.0, Cabin=None, Embarked='S'),\n Row(PassengerId=107, Survived=1, Pclass=3, Name='Salkjelsvik, Miss. Anna Kristine', Sex='female', Age=21.0, SibSp=0, Parch=0, Ticket='343120', Fare=7.65, Cabin=None, Embarked='S'),\n Row(PassengerId=124, Survived=1, Pclass=2, Name='Webber, Miss. Susan', Sex='female', Age=32.5, SibSp=0, Parch=0, Ticket='27267', Fare=13.0, Cabin='E101', Embarked='S'),\n Row(PassengerId=126, Survived=1, Pclass=3, Name='Nicola-Yarred, Master. Elias', Sex='male', Age=12.0, SibSp=1, Parch=0, Ticket='2651', Fare=11.2417, Cabin=None, Embarked='C'),\n Row(PassengerId=128, Survived=1, Pclass=3, Name='Madsen, Mr. Fridtjof Arne', Sex='male', Age=24.0, SibSp=0, Parch=0, Ticket='C 17369', Fare=7.1417, Cabin=None, Embarked='S'),\n Row(PassengerId=134, Survived=1, Pclass=2, Name='Weisz, Mrs. Leopold (Mathilde Francoise Pede)', Sex='female', Age=29.0, SibSp=1, Parch=0, Ticket='228414', Fare=26.0, Cabin=None, Embarked='S'),\n Row(PassengerId=137, Survived=1, Pclass=1, Name='Newsom, Miss. Helen Monypeny', Sex='female', Age=19.0, SibSp=0, Parch=2, Ticket='11752', Fare=26.2833, Cabin='D47', Embarked='S'),\n Row(PassengerId=142, Survived=1, Pclass=3, Name='Nysten, Miss. Anna Sofia', Sex='female', Age=22.0, SibSp=0, Parch=0, Ticket='347081', Fare=7.75, Cabin=None, Embarked='S'),\n Row(PassengerId=143, Survived=1, Pclass=3, Name='Hakkarainen, Mrs. Pekka Pietari (Elin Matilda Dolck)', Sex='female', Age=24.0, SibSp=1, Parch=0, Ticket='STON/O2. 3101279', Fare=15.85, Cabin=None, Embarked='S'),\n Row(PassengerId=147, Survived=1, Pclass=3, Name='\"Andersson, Mr. August Edvard (\"\"Wennerstrom\"\")\"', Sex='male', Age=27.0, SibSp=0, Parch=0, Ticket='350043', Fare=7.7958, Cabin=None, Embarked='S'),\n Row(PassengerId=152, Survived=1, Pclass=1, Name='Pears, Mrs. Thomas (Edith Wearne)', Sex='female', Age=22.0, SibSp=1, Parch=0, Ticket='113776', Fare=66.6, Cabin='C2', Embarked='S'),\n Row(PassengerId=157, Survived=1, Pclass=3, Name='\"Gilnagh, Miss. Katherine \"\"Katie\"\"\"', Sex='female', Age=16.0, SibSp=0, Parch=0, Ticket='35851', Fare=7.7333, Cabin=None, Embarked='Q'),\n Row(PassengerId=162, Survived=1, Pclass=2, Name='\"Watt, Mrs. James (Elizabeth \"\"Bessie\"\" Inglis Milne)\"', Sex='female', Age=40.0, SibSp=0, Parch=0, Ticket='C.A. 33595', Fare=15.75, Cabin=None, Embarked='S'),\n Row(PassengerId=166, Survived=1, Pclass=3, Name='\"Goldsmith, Master. Frank John William \"\"Frankie\"\"\"', Sex='male', Age=9.0, SibSp=0, Parch=2, Ticket='363291', Fare=20.525, Cabin=None, Embarked='S'),\n Row(PassengerId=173, Survived=1, Pclass=3, Name='Johnson, Miss. Eleanor Ileen', Sex='female', Age=1.0, SibSp=1, Parch=1, Ticket='347742', Fare=11.1333, Cabin=None, Embarked='S'),\n Row(PassengerId=184, Survived=1, Pclass=2, Name='Becker, Master. Richard F', Sex='male', Age=1.0, SibSp=2, Parch=1, Ticket='230136', Fare=39.0, Cabin='F4', Embarked='S'),\n Row(PassengerId=185, Survived=1, Pclass=3, Name='Kink-Heilmann, Miss. Luise Gretchen', Sex='female', Age=4.0, SibSp=0, Parch=2, Ticket='315153', Fare=22.025, Cabin=None, Embarked='S'),\n Row(PassengerId=188, Survived=1, Pclass=1, Name='\"Romaine, Mr. Charles Hallace (\"\"Mr C Rolmane\"\")\"', Sex='male', Age=45.0, SibSp=0, Parch=0, Ticket='111428', Fare=26.55, Cabin=None, Embarked='S'),\n Row(PassengerId=191, Survived=1, Pclass=2, Name='Pinsky, Mrs. (Rosa)', Sex='female', Age=32.0, SibSp=0, Parch=0, Ticket='234604', Fare=13.0, Cabin=None, Embarked='S'),\n Row(PassengerId=193, Survived=1, Pclass=3, Name='Andersen-Jensen, Miss. Carla Christine Nielsine', Sex='female', Age=19.0, SibSp=1, Parch=0, Ticket='350046', Fare=7.8542, Cabin=None, Embarked='S'),\n Row(PassengerId=194, Survived=1, Pclass=2, Name='Navratil, Master. Michel M', Sex='male', Age=3.0, SibSp=1, Parch=1, Ticket='230080', Fare=26.0, Cabin='F2', Embarked='S'),\n Row(PassengerId=195, Survived=1, Pclass=1, Name='Brown, Mrs. James Joseph (Margaret Tobin)', Sex='female', Age=44.0, SibSp=0, Parch=0, Ticket='PC 17610', Fare=27.7208, Cabin='B4', Embarked='C'),\n Row(PassengerId=196, Survived=1, Pclass=1, Name='Lurette, Miss. Elise', Sex='female', Age=58.0, SibSp=0, Parch=0, Ticket='PC 17569', Fare=146.5208, Cabin='B80', Embarked='C'),\n Row(PassengerId=205, Survived=1, Pclass=3, Name='\"Cohen, Mr. Gurshon \"\"Gus\"\"\"', Sex='male', Age=18.0, SibSp=0, Parch=0, Ticket='A/5 3540', Fare=8.05, Cabin=None, Embarked='S'),\n Row(PassengerId=208, Survived=1, Pclass=3, Name='Albimona, Mr. Nassef Cassem', Sex='male', Age=26.0, SibSp=0, Parch=0, Ticket='2699', Fare=18.7875, Cabin=None, Embarked='C'),\n Row(PassengerId=209, Survived=1, Pclass=3, Name='\"Carr, Miss. Helen \"\"Ellen\"\"\"', Sex='female', Age=16.0, SibSp=0, Parch=0, Ticket='367231', Fare=7.75, Cabin=None, Embarked='Q'),\n Row(PassengerId=210, Survived=1, Pclass=1, Name='Blank, Mr. Henry', Sex='male', Age=40.0, SibSp=0, Parch=0, Ticket='112277', Fare=31.0, Cabin='A31', Embarked='C'),\n Row(PassengerId=212, Survived=1, Pclass=2, Name='Cameron, Miss. Clear Annie', Sex='female', Age=35.0, SibSp=0, Parch=0, Ticket='F.C.C. 13528', Fare=21.0, Cabin=None, Embarked='S'),\n Row(PassengerId=216, Survived=1, Pclass=1, Name='Newell, Miss. Madeleine', Sex='female', Age=31.0, SibSp=1, Parch=0, Ticket='35273', Fare=113.275, Cabin='D36', Embarked='C'),\n Row(PassengerId=217, Survived=1, Pclass=3, Name='Honkanen, Miss. Eliina', Sex='female', Age=27.0, SibSp=0, Parch=0, Ticket='STON/O2. 3101283', Fare=7.925, Cabin=None, Embarked='S'),\n Row(PassengerId=219, Survived=1, Pclass=1, Name='Bazzani, Miss. Albina', Sex='female', Age=32.0, SibSp=0, Parch=0, Ticket='11813', Fare=76.2917, Cabin='D15', Embarked='C'),\n Row(PassengerId=221, Survived=1, Pclass=3, Name='Sunderland, Mr. Victor Francis', Sex='male', Age=16.0, SibSp=0, Parch=0, Ticket='SOTON/OQ 392089', Fare=8.05, Cabin=None, Embarked='S'),\n Row(PassengerId=225, Survived=1, Pclass=1, Name='Hoyt, Mr. Frederick Maxfield', Sex='male', Age=38.0, SibSp=1, Parch=0, Ticket='19943', Fare=90.0, Cabin='C93', Embarked='S'),\n Row(PassengerId=227, Survived=1, Pclass=2, Name='Mellors, Mr. William John', Sex='male', Age=19.0, SibSp=0, Parch=0, Ticket='SW/PP 751', Fare=10.5, Cabin=None, Embarked='S'),\n Row(PassengerId=231, Survived=1, Pclass=1, Name='Harris, Mrs. Henry Birkhardt (Irene Wallach)', Sex='female', Age=35.0, SibSp=1, Parch=0, Ticket='36973', Fare=83.475, Cabin='C83', Embarked='S'),\n Row(PassengerId=234, Survived=1, Pclass=3, Name='Asplund, Miss. Lillian Gertrud', Sex='female', Age=5.0, SibSp=4, Parch=2, Ticket='347077', Fare=31.3875, Cabin=None, Embarked='S'),\n Row(PassengerId=238, Survived=1, Pclass=2, Name='\"Collyer, Miss. Marjorie \"\"Lottie\"\"\"', Sex='female', Age=8.0, SibSp=0, Parch=2, Ticket='C.A. 31921', Fare=26.25, Cabin=None, Embarked='S'),\n Row(PassengerId=248, Survived=1, Pclass=2, Name='Hamalainen, Mrs. William (Anna)', Sex='female', Age=24.0, SibSp=0, Parch=2, Ticket='250649', Fare=14.5, Cabin=None, Embarked='S'),\n Row(PassengerId=249, Survived=1, Pclass=1, Name='Beckwith, Mr. Richard Leonard', Sex='male', Age=37.0, SibSp=1, Parch=1, Ticket='11751', Fare=52.5542, Cabin='D35', Embarked='S'),\n Row(PassengerId=256, Survived=1, Pclass=3, Name='Touma, Mrs. Darwis (Hanne Youssef Razi)', Sex='female', Age=29.0, SibSp=0, Parch=2, Ticket='2650', Fare=15.2458, Cabin=None, Embarked='C'),\n Row(PassengerId=258, Survived=1, Pclass=1, Name='Cherry, Miss. Gladys', Sex='female', Age=30.0, SibSp=0, Parch=0, Ticket='110152', Fare=86.5, Cabin='B77', Embarked='S'),\n Row(PassengerId=259, Survived=1, Pclass=1, Name='Ward, Miss. Anna', Sex='female', Age=35.0, SibSp=0, Parch=0, Ticket='PC 17755', Fare=512.3292, Cabin=None, Embarked='C'),\n Row(PassengerId=260, Survived=1, Pclass=2, Name='Parrish, Mrs. (Lutie Davis)', Sex='female', Age=50.0, SibSp=0, Parch=1, Ticket='230433', Fare=26.0, Cabin=None, Embarked='S'),\n Row(PassengerId=262, Survived=1, Pclass=3, Name='Asplund, Master. Edvin Rojj Felix', Sex='male', Age=3.0, SibSp=4, Parch=2, Ticket='347077', Fare=31.3875, Cabin=None, Embarked='S'),\n Row(PassengerId=268, Survived=1, Pclass=3, Name='Persson, Mr. Ernst Ulrik', Sex='male', Age=25.0, SibSp=1, Parch=0, Ticket='347083', Fare=7.775, Cabin=None, Embarked='S'),\n Row(PassengerId=269, Survived=1, Pclass=1, Name='Graham, Mrs. William Thompson (Edith Junkins)', Sex='female', Age=58.0, SibSp=0, Parch=1, Ticket='PC 17582', Fare=153.4625, Cabin='C125', Embarked='S'),\n Row(PassengerId=270, Survived=1, Pclass=1, Name='Bissette, Miss. Amelia', Sex='female', Age=35.0, SibSp=0, Parch=0, Ticket='PC 17760', Fare=135.6333, Cabin='C99', Embarked='S'),\n Row(PassengerId=272, Survived=1, Pclass=3, Name='Tornquist, Mr. William Henry', Sex='male', Age=25.0, SibSp=0, Parch=0, Ticket='LINE', Fare=0.0, Cabin=None, Embarked='S'),\n Row(PassengerId=273, Survived=1, Pclass=2, Name='Mellinger, Mrs. (Elizabeth Anne Maidment)', Sex='female', Age=41.0, SibSp=0, Parch=1, Ticket='250644', Fare=19.5, Cabin=None, Embarked='S'),\n Row(PassengerId=276, Survived=1, Pclass=1, Name='Andrews, Miss. Kornelia Theodosia', Sex='female', Age=63.0, SibSp=1, Parch=0, Ticket='13502', Fare=77.9583, Cabin='D7', Embarked='S'),\n Row(PassengerId=280, Survived=1, Pclass=3, Name='Abbott, Mrs. Stanton (Rosa Hunt)', Sex='female', Age=35.0, SibSp=1, Parch=1, Ticket='C.A. 2673', Fare=20.25, Cabin=None, Embarked='S'),\n Row(PassengerId=284, Survived=1, Pclass=3, Name='Dorking, Mr. Edward Arthur', Sex='male', Age=19.0, SibSp=0, Parch=0, Ticket='A/5. 10482', Fare=8.05, Cabin=None, Embarked='S'),\n Row(PassengerId=287, Survived=1, Pclass=3, Name='de Mulder, Mr. Theodore', Sex='male', Age=30.0, SibSp=0, Parch=0, Ticket='345774', Fare=9.5, Cabin=None, Embarked='S'),\n Row(PassengerId=289, Survived=1, Pclass=2, Name='Hosono, Mr. Masabumi', Sex='male', Age=42.0, SibSp=0, Parch=0, Ticket='237798', Fare=13.0, Cabin=None, Embarked='S'),\n Row(PassengerId=290, Survived=1, Pclass=3, Name='Connolly, Miss. Kate', Sex='female', Age=22.0, SibSp=0, Parch=0, Ticket='370373', Fare=7.75, Cabin=None, Embarked='Q'),\n Row(PassengerId=291, Survived=1, Pclass=1, Name='\"Barber, Miss. Ellen \"\"Nellie\"\"\"', Sex='female', Age=26.0, SibSp=0, Parch=0, Ticket='19877', Fare=78.85, Cabin=None, Embarked='S'),\n Row(PassengerId=292, Survived=1, Pclass=1, Name='Bishop, Mrs. Dickinson H (Helen Walton)', Sex='female', Age=19.0, SibSp=1, Parch=0, Ticket='11967', Fare=91.0792, Cabin='B49', Embarked='C'),\n Row(PassengerId=300, Survived=1, Pclass=1, Name='Baxter, Mrs. James (Helene DeLaudeniere Chaput)', Sex='female', Age=50.0, SibSp=0, Parch=1, Ticket='PC 17558', Fare=247.5208, Cabin='B58 B60', Embarked='C'),\n Row(PassengerId=306, Survived=1, Pclass=1, Name='Allison, Master. Hudson Trevor', Sex='male', Age=0.92, SibSp=1, Parch=2, Ticket='113781', Fare=151.55, Cabin='C22 C26', Embarked='S'),\n Row(PassengerId=308, Survived=1, Pclass=1, Name='Penasco y Castellana, Mrs. Victor de Satode (Maria Josefa Perez de Soto y Vallejo)', Sex='female', Age=17.0, SibSp=1, Parch=0, Ticket='PC 17758', Fare=108.9, Cabin='C65', Embarked='C'),\n Row(PassengerId=310, Survived=1, Pclass=1, Name='Francatelli, Miss. Laura Mabel', Sex='female', Age=30.0, SibSp=0, Parch=0, Ticket='PC 17485', Fare=56.9292, Cabin='E36', Embarked='C'),\n Row(PassengerId=311, Survived=1, Pclass=1, Name='Hays, Miss. Margaret Bechstein', Sex='female', Age=24.0, SibSp=0, Parch=0, Ticket='11767', Fare=83.1583, Cabin='C54', Embarked='C'),\n Row(PassengerId=312, Survived=1, Pclass=1, Name='Ryerson, Miss. Emily Borie', Sex='female', Age=18.0, SibSp=2, Parch=2, Ticket='PC 17608', Fare=262.375, Cabin='B57 B59 B63 B66', Embarked='C'),\n Row(PassengerId=316, Survived=1, Pclass=3, Name='Nilsson, Miss. Helmina Josefina', Sex='female', Age=26.0, SibSp=0, Parch=0, Ticket='347470', Fare=7.8542, Cabin=None, Embarked='S'),\n Row(PassengerId=317, Survived=1, Pclass=2, Name='Kantor, Mrs. Sinai (Miriam Sternin)', Sex='female', Age=24.0, SibSp=1, Parch=0, Ticket='244367', Fare=26.0, Cabin=None, Embarked='S'),\n Row(PassengerId=319, Survived=1, Pclass=1, Name='Wick, Miss. Mary Natalie', Sex='female', Age=31.0, SibSp=0, Parch=2, Ticket='36928', Fare=164.8667, Cabin='C7', Embarked='S'),\n Row(PassengerId=320, Survived=1, Pclass=1, Name='Spedden, Mrs. Frederic Oakley (Margaretta Corning Stone)', Sex='female', Age=40.0, SibSp=1, Parch=1, Ticket='16966', Fare=134.5, Cabin='E34', Embarked='C'),\n Row(PassengerId=323, Survived=1, Pclass=2, Name='Slayter, Miss. Hilda Mary', Sex='female', Age=30.0, SibSp=0, Parch=0, Ticket='234818', Fare=12.35, Cabin=None, Embarked='Q'),\n Row(PassengerId=324, Survived=1, Pclass=2, Name='Caldwell, Mrs. Albert Francis (Sylvia Mae Harbaugh)', Sex='female', Age=22.0, SibSp=1, Parch=1, Ticket='248738', Fare=29.0, Cabin=None, Embarked='S'),\n Row(PassengerId=326, Survived=1, Pclass=1, Name='Young, Miss. Marie Grice', Sex='female', Age=36.0, SibSp=0, Parch=0, Ticket='PC 17760', Fare=135.6333, Cabin='C32', Embarked='C'),\n Row(PassengerId=328, Survived=1, Pclass=2, Name='Ball, Mrs. (Ada E Hall)', Sex='female', Age=36.0, SibSp=0, Parch=0, Ticket='28551', Fare=13.0, Cabin='D', Embarked='S'),\n Row(PassengerId=329, Survived=1, Pclass=3, Name='Goldsmith, Mrs. Frank John (Emily Alice Brown)', Sex='female', Age=31.0, SibSp=1, Parch=1, Ticket='363291', Fare=20.525, Cabin=None, Embarked='S'),\n Row(PassengerId=330, Survived=1, Pclass=1, Name='Hippach, Miss. Jean Gertrude', Sex='female', Age=16.0, SibSp=0, Parch=1, Ticket='111361', Fare=57.9792, Cabin='B18', Embarked='C'),\n Row(PassengerId=338, Survived=1, Pclass=1, Name='Burns, Miss. Elizabeth Margaret', Sex='female', Age=41.0, SibSp=0, Parch=0, Ticket='16966', Fare=134.5, Cabin='E40', Embarked='C'),\n Row(PassengerId=339, Survived=1, Pclass=3, Name='Dahl, Mr. Karl Edwart', Sex='male', Age=45.0, SibSp=0, Parch=0, Ticket='7598', Fare=8.05, Cabin=None, Embarked='S'),\n Row(PassengerId=341, Survived=1, Pclass=2, Name='Navratil, Master. Edmond Roger', Sex='male', Age=2.0, SibSp=1, Parch=1, Ticket='230080', Fare=26.0, Cabin='F2', Embarked='S'),\n Row(PassengerId=342, Survived=1, Pclass=1, Name='Fortune, Miss. Alice Elizabeth', Sex='female', Age=24.0, SibSp=3, Parch=2, Ticket='19950', Fare=263.0, Cabin='C23 C25 C27', Embarked='S'),\n Row(PassengerId=346, Survived=1, Pclass=2, Name='\"Brown, Miss. Amelia \"\"Mildred\"\"\"', Sex='female', Age=24.0, SibSp=0, Parch=0, Ticket='248733', Fare=13.0, Cabin='F33', Embarked='S'),\n Row(PassengerId=347, Survived=1, Pclass=2, Name='Smith, Miss. Marion Elsie', Sex='female', Age=40.0, SibSp=0, Parch=0, Ticket='31418', Fare=13.0, Cabin=None, Embarked='S'),\n Row(PassengerId=349, Survived=1, Pclass=3, Name='\"Coutts, Master. William Loch \"\"William\"\"\"', Sex='male', Age=3.0, SibSp=1, Parch=1, Ticket='C.A. 37671', Fare=15.9, Cabin=None, Embarked='S'),\n Row(PassengerId=357, Survived=1, Pclass=1, Name='Bowerman, Miss. Elsie Edith', Sex='female', Age=22.0, SibSp=0, Parch=1, Ticket='113505', Fare=55.0, Cabin='E33', Embarked='S'),\n Row(PassengerId=367, Survived=1, Pclass=1, Name='Warren, Mrs. Frank Manley (Anna Sophia Atkinson)', Sex='female', Age=60.0, SibSp=1, Parch=0, Ticket='110813', Fare=75.25, Cabin='D37', Embarked='C'),\n Row(PassengerId=370, Survived=1, Pclass=1, Name='Aubart, Mme. Leontine Pauline', Sex='female', Age=24.0, SibSp=0, Parch=0, Ticket='PC 17477', Fare=69.3, Cabin='B35', Embarked='C'),\n Row(PassengerId=371, Survived=1, Pclass=1, Name='Harder, Mr. George Achilles', Sex='male', Age=25.0, SibSp=1, Parch=0, Ticket='11765', Fare=55.4417, Cabin='E50', Embarked='C'),\n Row(PassengerId=377, Survived=1, Pclass=3, Name='Landergren, Miss. Aurora Adelia', Sex='female', Age=22.0, SibSp=0, Parch=0, Ticket='C 7077', Fare=7.25, Cabin=None, Embarked='S'),\n Row(PassengerId=381, Survived=1, Pclass=1, Name='Bidois, Miss. Rosalie', Sex='female', Age=42.0, SibSp=0, Parch=0, Ticket='PC 17757', Fare=227.525, Cabin=None, Embarked='C'),\n Row(PassengerId=382, Survived=1, Pclass=3, Name='\"Nakid, Miss. Maria (\"\"Mary\"\")\"', Sex='female', Age=1.0, SibSp=0, Parch=2, Ticket='2653', Fare=15.7417, Cabin=None, Embarked='C'),\n Row(PassengerId=384, Survived=1, Pclass=1, Name='Holverson, Mrs. Alexander Oskar (Mary Aline Towner)', Sex='female', Age=35.0, SibSp=1, Parch=0, Ticket='113789', Fare=52.0, Cabin=None, Embarked='S'),\n Row(PassengerId=388, Survived=1, Pclass=2, Name='Buss, Miss. Kate', Sex='female', Age=36.0, SibSp=0, Parch=0, Ticket='27849', Fare=13.0, Cabin=None, Embarked='S'),\n Row(PassengerId=390, Survived=1, Pclass=2, Name='Lehmann, Miss. Bertha', Sex='female', Age=17.0, SibSp=0, Parch=0, Ticket='SC 1748', Fare=12.0, Cabin=None, Embarked='C'),\n Row(PassengerId=391, Survived=1, Pclass=1, Name='Carter, Mr. William Ernest', Sex='male', Age=36.0, SibSp=1, Parch=2, Ticket='113760', Fare=120.0, Cabin='B96 B98', Embarked='S'),\n Row(PassengerId=392, Survived=1, Pclass=3, Name='Jansson, Mr. Carl Olof', Sex='male', Age=21.0, SibSp=0, Parch=0, Ticket='350034', Fare=7.7958, Cabin=None, Embarked='S'),\n Row(PassengerId=394, Survived=1, Pclass=1, Name='Newell, Miss. Marjorie', Sex='female', Age=23.0, SibSp=1, Parch=0, Ticket='35273', Fare=113.275, Cabin='D36', Embarked='C'),\n Row(PassengerId=395, Survived=1, Pclass=3, Name='Sandstrom, Mrs. Hjalmar (Agnes Charlotta Bengtsson)', Sex='female', Age=24.0, SibSp=0, Parch=2, Ticket='PP 9549', Fare=16.7, Cabin='G6', Embarked='S'),\n Row(PassengerId=400, Survived=1, Pclass=2, Name='Trout, Mrs. William H (Jessie L)', Sex='female', Age=28.0, SibSp=0, Parch=0, Ticket='240929', Fare=12.65, Cabin=None, Embarked='S'),\n Row(PassengerId=401, Survived=1, Pclass=3, Name='Niskanen, Mr. Juha', Sex='male', Age=39.0, SibSp=0, Parch=0, Ticket='STON/O 2. 3101289', Fare=7.925, Cabin=None, Embarked='S'),\n Row(PassengerId=408, Survived=1, Pclass=2, Name='Richards, Master. William Rowe', Sex='male', Age=3.0, SibSp=1, Parch=1, Ticket='29106', Fare=18.75, Cabin=None, Embarked='S'),\n Row(PassengerId=413, Survived=1, Pclass=1, Name='Minahan, Miss. Daisy E', Sex='female', Age=33.0, SibSp=1, Parch=0, Ticket='19928', Fare=90.0, Cabin='C78', Embarked='Q'),\n Row(PassengerId=415, Survived=1, Pclass=3, Name='Sundman, Mr. Johan Julian', Sex='male', Age=44.0, SibSp=0, Parch=0, Ticket='STON/O 2. 3101269', Fare=7.925, Cabin=None, Embarked='S'),\n Row(PassengerId=417, Survived=1, Pclass=2, Name='Drew, Mrs. James Vivian (Lulu Thorne Christian)', Sex='female', Age=34.0, SibSp=1, Parch=1, Ticket='28220', Fare=32.5, Cabin=None, Embarked='S'),\n Row(PassengerId=418, Survived=1, Pclass=2, Name='Silven, Miss. Lyyli Karoliina', Sex='female', Age=18.0, SibSp=0, Parch=2, Ticket='250652', Fare=13.0, Cabin=None, Embarked='S'),\n Row(PassengerId=427, Survived=1, Pclass=2, Name='Clarke, Mrs. Charles V (Ada Maria Winfield)', Sex='female', Age=28.0, SibSp=1, Parch=0, Ticket='2003', Fare=26.0, Cabin=None, Embarked='S'),\n Row(PassengerId=428, Survived=1, Pclass=2, Name='\"Phillips, Miss. Kate Florence (\"\"Mrs Kate Louise Phillips Marshall\"\")\"', Sex='female', Age=19.0, SibSp=0, Parch=0, Ticket='250655', Fare=26.0, Cabin=None, Embarked='S'),\n Row(PassengerId=430, Survived=1, Pclass=3, Name='Pickard, Mr. Berk (Berk Trembisky)', Sex='male', Age=32.0, SibSp=0, Parch=0, Ticket='SOTON/O.Q. 392078', Fare=8.05, Cabin='E10', Embarked='S'),\n Row(PassengerId=431, Survived=1, Pclass=1, Name='Bjornstrom-Steffansson, Mr. Mauritz Hakan', Sex='male', Age=28.0, SibSp=0, Parch=0, Ticket='110564', Fare=26.55, Cabin='C52', Embarked='S'),\n Row(PassengerId=433, Survived=1, Pclass=2, Name='Louch, Mrs. Charles Alexander (Alice Adelaide Slow)', Sex='female', Age=42.0, SibSp=1, Parch=0, Ticket='SC/AH 3085', Fare=26.0, Cabin=None, Embarked='S'),\n Row(PassengerId=436, Survived=1, Pclass=1, Name='Carter, Miss. Lucile Polk', Sex='female', Age=14.0, SibSp=1, Parch=2, Ticket='113760', Fare=120.0, Cabin='B96 B98', Embarked='S'),\n Row(PassengerId=438, Survived=1, Pclass=2, Name='Richards, Mrs. Sidney (Emily Hocking)', Sex='female', Age=24.0, SibSp=2, Parch=3, Ticket='29106', Fare=18.75, Cabin=None, Embarked='S'),\n Row(PassengerId=441, Survived=1, Pclass=2, Name='Hart, Mrs. Benjamin (Esther Ada Bloomfield)', Sex='female', Age=45.0, SibSp=1, Parch=1, Ticket='F.C.C. 13529', Fare=26.25, Cabin=None, Embarked='S'),\n Row(PassengerId=444, Survived=1, Pclass=2, Name='Reynaldo, Ms. Encarnacion', Sex='female', Age=28.0, SibSp=0, Parch=0, Ticket='230434', Fare=13.0, Cabin=None, Embarked='S'),\n Row(PassengerId=446, Survived=1, Pclass=1, Name='Dodge, Master. Washington', Sex='male', Age=4.0, SibSp=0, Parch=2, Ticket='33638', Fare=81.8583, Cabin='A34', Embarked='S'),\n Row(PassengerId=447, Survived=1, Pclass=2, Name='Mellinger, Miss. Madeleine Violet', Sex='female', Age=13.0, SibSp=0, Parch=1, Ticket='250644', Fare=19.5, Cabin=None, Embarked='S'),\n Row(PassengerId=448, Survived=1, Pclass=1, Name='Seward, Mr. Frederic Kimber', Sex='male', Age=34.0, SibSp=0, Parch=0, Ticket='113794', Fare=26.55, Cabin=None, Embarked='S'),\n Row(PassengerId=449, Survived=1, Pclass=3, Name='Baclini, Miss. Marie Catherine', Sex='female', Age=5.0, SibSp=2, Parch=1, Ticket='2666', Fare=19.2583, Cabin=None, Embarked='C'),\n Row(PassengerId=450, Survived=1, Pclass=1, Name='Peuchen, Major. Arthur Godfrey', Sex='male', Age=52.0, SibSp=0, Parch=0, Ticket='113786', Fare=30.5, Cabin='C104', Embarked='S'),\n Row(PassengerId=454, Survived=1, Pclass=1, Name='Goldenberg, Mr. Samuel L', Sex='male', Age=49.0, SibSp=1, Parch=0, Ticket='17453', Fare=89.1042, Cabin='C92', Embarked='C'),\n Row(PassengerId=456, Survived=1, Pclass=3, Name='Jalsevac, Mr. Ivan', Sex='male', Age=29.0, SibSp=0, Parch=0, Ticket='349240', Fare=7.8958, Cabin=None, Embarked='C'),\n Row(PassengerId=459, Survived=1, Pclass=2, Name='Toomey, Miss. Ellen', Sex='female', Age=50.0, SibSp=0, Parch=0, Ticket='F.C.C. 13531', Fare=10.5, Cabin=None, Embarked='S'),\n Row(PassengerId=461, Survived=1, Pclass=1, Name='Anderson, Mr. Harry', Sex='male', Age=48.0, SibSp=0, Parch=0, Ticket='19952', Fare=26.55, Cabin='E12', Embarked='S'),\n Row(PassengerId=470, Survived=1, Pclass=3, Name='Baclini, Miss. Helene Barbara', Sex='female', Age=0.75, SibSp=2, Parch=1, Ticket='2666', Fare=19.2583, Cabin=None, Embarked='C'),\n Row(PassengerId=473, Survived=1, Pclass=2, Name='West, Mrs. Edwy Arthur (Ada Mary Worth)', Sex='female', Age=33.0, SibSp=1, Parch=2, Ticket='C.A. 34651', Fare=27.75, Cabin=None, Embarked='S'),\n Row(PassengerId=474, Survived=1, Pclass=2, Name='Jerwan, Mrs. Amin S (Marie Marthe Thuillard)', Sex='female', Age=23.0, SibSp=0, Parch=0, Ticket='SC/AH Basle 541', Fare=13.7917, Cabin='D', Embarked='C'),\n Row(PassengerId=480, Survived=1, Pclass=3, Name='Hirvonen, Miss. Hildur E', Sex='female', Age=2.0, SibSp=0, Parch=1, Ticket='3101298', Fare=12.2875, Cabin=None, Embarked='S'),\n Row(PassengerId=484, Survived=1, Pclass=3, Name='Turkula, Mrs. (Hedwig)', Sex='female', Age=63.0, SibSp=0, Parch=0, Ticket='4134', Fare=9.5875, Cabin=None, Embarked='S'),\n Row(PassengerId=485, Survived=1, Pclass=1, Name='Bishop, Mr. Dickinson H', Sex='male', Age=25.0, SibSp=1, Parch=0, Ticket='11967', Fare=91.0792, Cabin='B49', Embarked='C'),\n Row(PassengerId=487, Survived=1, Pclass=1, Name='Hoyt, Mrs. Frederick Maxfield (Jane Anne Forby)', Sex='female', Age=35.0, SibSp=1, Parch=0, Ticket='19943', Fare=90.0, Cabin='C93', Embarked='S'),\n Row(PassengerId=490, Survived=1, Pclass=3, Name='\"Coutts, Master. Eden Leslie \"\"Neville\"\"\"', Sex='male', Age=9.0, SibSp=1, Parch=1, Ticket='C.A. 37671', Fare=15.9, Cabin=None, Embarked='S'),\n Row(PassengerId=497, Survived=1, Pclass=1, Name='Eustis, Miss. Elizabeth Mussey', Sex='female', Age=54.0, SibSp=1, Parch=0, Ticket='36947', Fare=78.2667, Cabin='D20', Embarked='C'),\n Row(PassengerId=505, Survived=1, Pclass=1, Name='Maioni, Miss. Roberta', Sex='female', Age=16.0, SibSp=0, Parch=0, Ticket='110152', Fare=86.5, Cabin='B79', Embarked='S'),\n Row(PassengerId=507, Survived=1, Pclass=2, Name='Quick, Mrs. Frederick Charles (Jane Richards)', Sex='female', Age=33.0, SibSp=0, Parch=2, Ticket='26360', Fare=26.0, Cabin=None, Embarked='S'),\n Row(PassengerId=510, Survived=1, Pclass=3, Name='Lang, Mr. Fang', Sex='male', Age=26.0, SibSp=0, Parch=0, Ticket='1601', Fare=56.4958, Cabin=None, Embarked='S'),\n Row(PassengerId=511, Survived=1, Pclass=3, Name='Daly, Mr. Eugene Patrick', Sex='male', Age=29.0, SibSp=0, Parch=0, Ticket='382651', Fare=7.75, Cabin=None, Embarked='Q'),\n Row(PassengerId=513, Survived=1, Pclass=1, Name='McGough, Mr. James Robert', Sex='male', Age=36.0, SibSp=0, Parch=0, Ticket='PC 17473', Fare=26.2875, Cabin='E25', Embarked='S'),\n Row(PassengerId=514, Survived=1, Pclass=1, Name='Rothschild, Mrs. Martin (Elizabeth L. Barrett)', Sex='female', Age=54.0, SibSp=1, Parch=0, Ticket='PC 17603', Fare=59.4, Cabin=None, Embarked='C'),\n Row(PassengerId=517, Survived=1, Pclass=2, Name='Lemore, Mrs. (Amelia Milley)', Sex='female', Age=34.0, SibSp=0, Parch=0, Ticket='C.A. 34260', Fare=10.5, Cabin='F33', Embarked='S'),\n Row(PassengerId=519, Survived=1, Pclass=2, Name='\"Angle, Mrs. William A (Florence \"\"Mary\"\" Agnes Hughes)\"', Sex='female', Age=36.0, SibSp=1, Parch=0, Ticket='226875', Fare=26.0, Cabin=None, Embarked='S'),\n Row(PassengerId=521, Survived=1, Pclass=1, Name='Perreault, Miss. Anne', Sex='female', Age=30.0, SibSp=0, Parch=0, Ticket='12749', Fare=93.5, Cabin='B73', Embarked='S'),\n Row(PassengerId=524, Survived=1, Pclass=1, Name='Hippach, Mrs. Louis Albert (Ida Sophia Fischer)', Sex='female', Age=44.0, SibSp=0, Parch=1, Ticket='111361', Fare=57.9792, Cabin='B18', Embarked='C'),\n Row(PassengerId=527, Survived=1, Pclass=2, Name='Ridsdale, Miss. Lucy', Sex='female', Age=50.0, SibSp=0, Parch=0, Ticket='W./C. 14258', Fare=10.5, Cabin=None, Embarked='S'),\n Row(PassengerId=531, Survived=1, Pclass=2, Name='Quick, Miss. Phyllis May', Sex='female', Age=2.0, SibSp=1, Parch=1, Ticket='26360', Fare=26.0, Cabin=None, Embarked='S'),\n Row(PassengerId=536, Survived=1, Pclass=2, Name='Hart, Miss. Eva Miriam', Sex='female', Age=7.0, SibSp=0, Parch=2, Ticket='F.C.C. 13529', Fare=26.25, Cabin=None, Embarked='S'),\n Row(PassengerId=538, Survived=1, Pclass=1, Name='LeRoy, Miss. Bertha', Sex='female', Age=30.0, SibSp=0, Parch=0, Ticket='PC 17761', Fare=106.425, Cabin=None, Embarked='C'),\n Row(PassengerId=540, Survived=1, Pclass=1, Name='Frolicher, Miss. Hedwig Margaritha', Sex='female', Age=22.0, SibSp=0, Parch=2, Ticket='13568', Fare=49.5, Cabin='B39', Embarked='C'),\n Row(PassengerId=541, Survived=1, Pclass=1, Name='Crosby, Miss. Harriet R', Sex='female', Age=36.0, SibSp=0, Parch=2, Ticket='WE/P 5735', Fare=71.0, Cabin='B22', Embarked='S'),\n Row(PassengerId=544, Survived=1, Pclass=2, Name='Beane, Mr. Edward', Sex='male', Age=32.0, SibSp=1, Parch=0, Ticket='2908', Fare=26.0, Cabin=None, Embarked='S'),\n Row(PassengerId=547, Survived=1, Pclass=2, Name='Beane, Mrs. Edward (Ethel Clarke)', Sex='female', Age=19.0, SibSp=1, Parch=0, Ticket='2908', Fare=26.0, Cabin=None, Embarked='S'),\n Row(PassengerId=550, Survived=1, Pclass=2, Name='Davies, Master. John Morgan Jr', Sex='male', Age=8.0, SibSp=1, Parch=1, Ticket='C.A. 33112', Fare=36.75, Cabin=None, Embarked='S'),\n Row(PassengerId=551, Survived=1, Pclass=1, Name='Thayer, Mr. John Borland Jr', Sex='male', Age=17.0, SibSp=0, Parch=2, Ticket='17421', Fare=110.8833, Cabin='C70', Embarked='C'),\n Row(PassengerId=554, Survived=1, Pclass=3, Name='\"Leeni, Mr. Fahim (\"\"Philip Zenni\"\")\"', Sex='male', Age=22.0, SibSp=0, Parch=0, Ticket='2620', Fare=7.225, Cabin=None, Embarked='C'),\n Row(PassengerId=555, Survived=1, Pclass=3, Name='Ohman, Miss. Velin', Sex='female', Age=22.0, SibSp=0, Parch=0, Ticket='347085', Fare=7.775, Cabin=None, Embarked='S'),\n Row(PassengerId=557, Survived=1, Pclass=1, Name='\"Duff Gordon, Lady. (Lucille Christiana Sutherland) (\"\"Mrs Morgan\"\")\"', Sex='female', Age=48.0, SibSp=1, Parch=0, Ticket='11755', Fare=39.6, Cabin='A16', Embarked='C'),\n Row(PassengerId=559, Survived=1, Pclass=1, Name='Taussig, Mrs. Emil (Tillie Mandelbaum)', Sex='female', Age=39.0, SibSp=1, Parch=1, Ticket='110413', Fare=79.65, Cabin='E67', Embarked='S'),\n Row(PassengerId=560, Survived=1, Pclass=3, Name='de Messemaeker, Mrs. Guillaume Joseph (Emma)', Sex='female', Age=36.0, SibSp=1, Parch=0, Ticket='345572', Fare=17.4, Cabin=None, Embarked='S'),\n Row(PassengerId=570, Survived=1, Pclass=3, Name='Jonsson, Mr. Carl', Sex='male', Age=32.0, SibSp=0, Parch=0, Ticket='350417', Fare=7.8542, Cabin=None, Embarked='S'),\n Row(PassengerId=571, Survived=1, Pclass=2, Name='Harris, Mr. George', Sex='male', Age=62.0, SibSp=0, Parch=0, Ticket='S.W./PP 752', Fare=10.5, Cabin=None, Embarked='S'),\n Row(PassengerId=572, Survived=1, Pclass=1, Name='Appleton, Mrs. Edward Dale (Charlotte Lamson)', Sex='female', Age=53.0, SibSp=2, Parch=0, Ticket='11769', Fare=51.4792, Cabin='C101', Embarked='S'),\n Row(PassengerId=573, Survived=1, Pclass=1, Name='\"Flynn, Mr. John Irwin (\"\"Irving\"\")\"', Sex='male', Age=36.0, SibSp=0, Parch=0, Ticket='PC 17474', Fare=26.3875, Cabin='E25', Embarked='S'),\n Row(PassengerId=577, Survived=1, Pclass=2, Name='Garside, Miss. Ethel', Sex='female', Age=34.0, SibSp=0, Parch=0, Ticket='243880', Fare=13.0, Cabin=None, Embarked='S'),\n Row(PassengerId=578, Survived=1, Pclass=1, Name='Silvey, Mrs. William Baird (Alice Munger)', Sex='female', Age=39.0, SibSp=1, Parch=0, Ticket='13507', Fare=55.9, Cabin='E44', Embarked='S'),\n Row(PassengerId=580, Survived=1, Pclass=3, Name='Jussila, Mr. Eiriik', Sex='male', Age=32.0, SibSp=0, Parch=0, Ticket='STON/O 2. 3101286', Fare=7.925, Cabin=None, Embarked='S'),\n Row(PassengerId=581, Survived=1, Pclass=2, Name='Christy, Miss. Julie Rachel', Sex='female', Age=25.0, SibSp=1, Parch=1, Ticket='237789', Fare=30.0, Cabin=None, Embarked='S'),\n Row(PassengerId=582, Survived=1, Pclass=1, Name='Thayer, Mrs. John Borland (Marian Longstreth Morris)', Sex='female', Age=39.0, SibSp=1, Parch=1, Ticket='17421', Fare=110.8833, Cabin='C68', Embarked='C'),\n Row(PassengerId=586, Survived=1, Pclass=1, Name='Taussig, Miss. Ruth', Sex='female', Age=18.0, SibSp=0, Parch=2, Ticket='110413', Fare=79.65, Cabin='E68', Embarked='S'),\n Row(PassengerId=588, Survived=1, Pclass=1, Name='Frolicher-Stehli, Mr. Maxmillian', Sex='male', Age=60.0, SibSp=1, Parch=1, Ticket='13567', Fare=79.2, Cabin='B41', Embarked='C'),\n Row(PassengerId=592, Survived=1, Pclass=1, Name='Stephenson, Mrs. Walter Bertram (Martha Eustis)', Sex='female', Age=52.0, SibSp=1, Parch=0, Ticket='36947', Fare=78.2667, Cabin='D20', Embarked='C'),\n Row(PassengerId=600, Survived=1, Pclass=1, Name='\"Duff Gordon, Sir. Cosmo Edmund (\"\"Mr Morgan\"\")\"', Sex='male', Age=49.0, SibSp=1, Parch=0, Ticket='PC 17485', Fare=56.9292, Cabin='A20', Embarked='C'),\n Row(PassengerId=601, Survived=1, Pclass=2, Name='Jacobsohn, Mrs. Sidney Samuel (Amy Frances Christy)', Sex='female', Age=24.0, SibSp=2, Parch=1, Ticket='243847', Fare=27.0, Cabin=None, Embarked='S'),\n Row(PassengerId=605, Survived=1, Pclass=1, Name='\"Homer, Mr. Harry (\"\"Mr E Haven\"\")\"', Sex='male', Age=35.0, SibSp=0, Parch=0, Ticket='111426', Fare=26.55, Cabin=None, Embarked='C'),\n Row(PassengerId=608, Survived=1, Pclass=1, Name='Daniel, Mr. Robert Williams', Sex='male', Age=27.0, SibSp=0, Parch=0, Ticket='113804', Fare=30.5, Cabin=None, Embarked='S'),\n Row(PassengerId=609, Survived=1, Pclass=2, Name='Laroche, Mrs. Joseph (Juliette Marie Louise Lafargue)', Sex='female', Age=22.0, SibSp=1, Parch=2, Ticket='SC/Paris 2123', Fare=41.5792, Cabin=None, Embarked='C'),\n Row(PassengerId=610, Survived=1, Pclass=1, Name='Shutes, Miss. Elizabeth W', Sex='female', Age=40.0, SibSp=0, Parch=0, Ticket='PC 17582', Fare=153.4625, Cabin='C125', Embarked='S'),\n Row(PassengerId=616, Survived=1, Pclass=2, Name='Herman, Miss. Alice', Sex='female', Age=24.0, SibSp=1, Parch=2, Ticket='220845', Fare=65.0, Cabin=None, Embarked='S'),\n Row(PassengerId=619, Survived=1, Pclass=2, Name='Becker, Miss. Marion Louise', Sex='female', Age=4.0, SibSp=2, Parch=1, Ticket='230136', Fare=39.0, Cabin='F4', Embarked='S'),\n Row(PassengerId=622, Survived=1, Pclass=1, Name='Kimball, Mr. Edwin Nelson Jr', Sex='male', Age=42.0, SibSp=1, Parch=0, Ticket='11753', Fare=52.5542, Cabin='D19', Embarked='S'),\n Row(PassengerId=623, Survived=1, Pclass=3, Name='Nakid, Mr. Sahid', Sex='male', Age=20.0, SibSp=1, Parch=1, Ticket='2653', Fare=15.7417, Cabin=None, Embarked='C'),\n Row(PassengerId=628, Survived=1, Pclass=1, Name='Longley, Miss. Gretchen Fiske', Sex='female', Age=21.0, SibSp=0, Parch=0, Ticket='13502', Fare=77.9583, Cabin='D9', Embarked='S'),\n Row(PassengerId=631, Survived=1, Pclass=1, Name='Barkworth, Mr. Algernon Henry Wilson', Sex='male', Age=80.0, SibSp=0, Parch=0, Ticket='27042', Fare=30.0, Cabin='A23', Embarked='S'),\n Row(PassengerId=633, Survived=1, Pclass=1, Name='Stahelin-Maeglin, Dr. Max', Sex='male', Age=32.0, SibSp=0, Parch=0, Ticket='13214', Fare=30.5, Cabin='B50', Embarked='C'),\n Row(PassengerId=636, Survived=1, Pclass=2, Name='Davis, Miss. Mary', Sex='female', Age=28.0, SibSp=0, Parch=0, Ticket='237668', Fare=13.0, Cabin=None, Embarked='S'),\n Row(PassengerId=642, Survived=1, Pclass=1, Name='Sagesser, Mlle. Emma', Sex='female', Age=24.0, SibSp=0, Parch=0, Ticket='PC 17477', Fare=69.3, Cabin='B35', Embarked='C'),\n Row(PassengerId=645, Survived=1, Pclass=3, Name='Baclini, Miss. Eugenie', Sex='female', Age=0.75, SibSp=2, Parch=1, Ticket='2666', Fare=19.2583, Cabin=None, Embarked='C'),\n Row(PassengerId=646, Survived=1, Pclass=1, Name='Harper, Mr. Henry Sleeper', Sex='male', Age=48.0, SibSp=1, Parch=0, Ticket='PC 17572', Fare=76.7292, Cabin='D33', Embarked='C'),\n Row(PassengerId=648, Survived=1, Pclass=1, Name='Simonius-Blumer, Col. Oberst Alfons', Sex='male', Age=56.0, SibSp=0, Parch=0, Ticket='13213', Fare=35.5, Cabin='A26', Embarked='C'),\n Row(PassengerId=650, Survived=1, Pclass=3, Name='Stanley, Miss. Amy Zillah Elsie', Sex='female', Age=23.0, SibSp=0, Parch=0, Ticket='CA. 2314', Fare=7.55, Cabin=None, Embarked='S'),\n Row(PassengerId=652, Survived=1, Pclass=2, Name='Doling, Miss. Elsie', Sex='female', Age=18.0, SibSp=0, Parch=1, Ticket='231919', Fare=23.0, Cabin=None, Embarked='S'),\n Row(PassengerId=661, Survived=1, Pclass=1, Name='Frauenthal, Dr. Henry William', Sex='male', Age=50.0, SibSp=2, Parch=0, Ticket='PC 17611', Fare=133.65, Cabin=None, Embarked='S'),\n Row(PassengerId=665, Survived=1, Pclass=3, Name='Lindqvist, Mr. Eino William', Sex='male', Age=20.0, SibSp=1, Parch=0, Ticket='STON/O 2. 3101285', Fare=7.925, Cabin=None, Embarked='S'),\n Row(PassengerId=671, Survived=1, Pclass=2, Name='Brown, Mrs. Thomas William Solomon (Elizabeth Catherine Ford)', Sex='female', Age=40.0, SibSp=1, Parch=1, Ticket='29750', Fare=39.0, Cabin=None, Embarked='S'),\n Row(PassengerId=674, Survived=1, Pclass=2, Name='Wilhelms, Mr. Charles', Sex='male', Age=31.0, SibSp=0, Parch=0, Ticket='244270', Fare=13.0, Cabin=None, Embarked='S'),\n Row(PassengerId=678, Survived=1, Pclass=3, Name='Turja, Miss. Anna Sofia', Sex='female', Age=18.0, SibSp=0, Parch=0, Ticket='4138', Fare=9.8417, Cabin=None, Embarked='S'),\n Row(PassengerId=680, Survived=1, Pclass=1, Name='Cardeza, Mr. Thomas Drake Martinez', Sex='male', Age=36.0, SibSp=0, Parch=1, Ticket='PC 17755', Fare=512.3292, Cabin='B51 B53 B55', Embarked='C'),\n Row(PassengerId=682, Survived=1, Pclass=1, Name='Hassab, Mr. Hammad', Sex='male', Age=27.0, SibSp=0, Parch=0, Ticket='PC 17572', Fare=76.7292, Cabin='D49', Embarked='C'),\n Row(PassengerId=690, Survived=1, Pclass=1, Name='Madill, Miss. Georgette Alexandra', Sex='female', Age=15.0, SibSp=0, Parch=1, Ticket='24160', Fare=211.3375, Cabin='B5', Embarked='S'),\n Row(PassengerId=691, Survived=1, Pclass=1, Name='Dick, Mr. Albert Adrian', Sex='male', Age=31.0, SibSp=1, Parch=0, Ticket='17474', Fare=57.0, Cabin='B20', Embarked='S'),\n Row(PassengerId=692, Survived=1, Pclass=3, Name='Karun, Miss. Manca', Sex='female', Age=4.0, SibSp=0, Parch=1, Ticket='349256', Fare=13.4167, Cabin=None, Embarked='C'),\n Row(PassengerId=701, Survived=1, Pclass=1, Name='Astor, Mrs. John Jacob (Madeleine Talmadge Force)', Sex='female', Age=18.0, SibSp=1, Parch=0, Ticket='PC 17757', Fare=227.525, Cabin='C62 C64', Embarked='C'),\n Row(PassengerId=702, Survived=1, Pclass=1, Name='Silverthorne, Mr. Spencer Victor', Sex='male', Age=35.0, SibSp=0, Parch=0, Ticket='PC 17475', Fare=26.2875, Cabin='E24', Embarked='S'),\n Row(PassengerId=707, Survived=1, Pclass=2, Name='\"Kelly, Mrs. Florence \"\"Fannie\"\"\"', Sex='female', Age=45.0, SibSp=0, Parch=0, Ticket='223596', Fare=13.5, Cabin=None, Embarked='S'),\n Row(PassengerId=708, Survived=1, Pclass=1, Name='Calderhead, Mr. Edward Pennington', Sex='male', Age=42.0, SibSp=0, Parch=0, Ticket='PC 17476', Fare=26.2875, Cabin='E24', Embarked='S'),\n Row(PassengerId=709, Survived=1, Pclass=1, Name='Cleaver, Miss. Alice', Sex='female', Age=22.0, SibSp=0, Parch=0, Ticket='113781', Fare=151.55, Cabin=None, Embarked='S'),\n Row(PassengerId=711, Survived=1, Pclass=1, Name='\"Mayne, Mlle. Berthe Antonine (\"\"Mrs de Villiers\"\")\"', Sex='female', Age=24.0, SibSp=0, Parch=0, Ticket='PC 17482', Fare=49.5042, Cabin='C90', Embarked='C'),\n Row(PassengerId=713, Survived=1, Pclass=1, Name='Taylor, Mr. Elmer Zebley', Sex='male', Age=48.0, SibSp=1, Parch=0, Ticket='19996', Fare=52.0, Cabin='C126', Embarked='S'),\n Row(PassengerId=717, Survived=1, Pclass=1, Name='Endres, Miss. Caroline Louise', Sex='female', Age=38.0, SibSp=0, Parch=0, Ticket='PC 17757', Fare=227.525, Cabin='C45', Embarked='C'),\n Row(PassengerId=718, Survived=1, Pclass=2, Name='\"Troutt, Miss. Edwina Celia \"\"Winnie\"\"\"', Sex='female', Age=27.0, SibSp=0, Parch=0, Ticket='34218', Fare=10.5, Cabin='E101', Embarked='S'),\n Row(PassengerId=721, Survived=1, Pclass=2, Name='\"Harper, Miss. Annie Jessie \"\"Nina\"\"\"', Sex='female', Age=6.0, SibSp=0, Parch=1, Ticket='248727', Fare=33.0, Cabin=None, Embarked='S'),\n Row(PassengerId=725, Survived=1, Pclass=1, Name='Chambers, Mr. Norman Campbell', Sex='male', Age=27.0, SibSp=1, Parch=0, Ticket='113806', Fare=53.1, Cabin='E8', Embarked='S'),\n Row(PassengerId=727, Survived=1, Pclass=2, Name='Renouf, Mrs. Peter Henry (Lillian Jefferys)', Sex='female', Age=30.0, SibSp=3, Parch=0, Ticket='31027', Fare=21.0, Cabin=None, Embarked='S'),\n Row(PassengerId=731, Survived=1, Pclass=1, Name='Allen, Miss. Elisabeth Walton', Sex='female', Age=29.0, SibSp=0, Parch=0, Ticket='24160', Fare=211.3375, Cabin='B5', Embarked='S'),\n Row(PassengerId=738, Survived=1, Pclass=1, Name='Lesurer, Mr. Gustave J', Sex='male', Age=35.0, SibSp=0, Parch=0, Ticket='PC 17755', Fare=512.3292, Cabin='B101', Embarked='C'),\n Row(PassengerId=743, Survived=1, Pclass=1, Name='\"Ryerson, Miss. Susan Parker \"\"Suzette\"\"\"', Sex='female', Age=21.0, SibSp=2, Parch=2, Ticket='PC 17608', Fare=262.375, Cabin='B57 B59 B63 B66', Embarked='C'),\n Row(PassengerId=745, Survived=1, Pclass=3, Name='Stranden, Mr. Juho', Sex='male', Age=31.0, SibSp=0, Parch=0, Ticket='STON/O 2. 3101288', Fare=7.925, Cabin=None, Embarked='S'),\n Row(PassengerId=748, Survived=1, Pclass=2, Name='Sinkkonen, Miss. Anna', Sex='female', Age=30.0, SibSp=0, Parch=0, Ticket='250648', Fare=13.0, Cabin=None, Embarked='S'),\n Row(PassengerId=751, Survived=1, Pclass=2, Name='Wells, Miss. Joan', Sex='female', Age=4.0, SibSp=1, Parch=1, Ticket='29103', Fare=23.0, Cabin=None, Embarked='S'),\n Row(PassengerId=752, Survived=1, Pclass=3, Name='Moor, Master. Meier', Sex='male', Age=6.0, SibSp=0, Parch=1, Ticket='392096', Fare=12.475, Cabin='E121', Embarked='S'),\n Row(PassengerId=755, Survived=1, Pclass=2, Name='Herman, Mrs. Samuel (Jane Laver)', Sex='female', Age=48.0, SibSp=1, Parch=2, Ticket='220845', Fare=65.0, Cabin=None, Embarked='S'),\n Row(PassengerId=756, Survived=1, Pclass=2, Name='Hamalainen, Master. Viljo', Sex='male', Age=0.67, SibSp=1, Parch=1, Ticket='250649', Fare=14.5, Cabin=None, Embarked='S'),\n Row(PassengerId=760, Survived=1, Pclass=1, Name='Rothes, the Countess. of (Lucy Noel Martha Dyer-Edwards)', Sex='female', Age=33.0, SibSp=0, Parch=0, Ticket='110152', Fare=86.5, Cabin='B77', Embarked='S'),\n Row(PassengerId=763, Survived=1, Pclass=3, Name='Barah, Mr. Hanna Assi', Sex='male', Age=20.0, SibSp=0, Parch=0, Ticket='2663', Fare=7.2292, Cabin=None, Embarked='C'),\n Row(PassengerId=764, Survived=1, Pclass=1, Name='Carter, Mrs. William Ernest (Lucile Polk)', Sex='female', Age=36.0, SibSp=1, Parch=2, Ticket='113760', Fare=120.0, Cabin='B96 B98', Embarked='S'),\n Row(PassengerId=766, Survived=1, Pclass=1, Name='Hogeboom, Mrs. John C (Anna Andrews)', Sex='female', Age=51.0, SibSp=1, Parch=0, Ticket='13502', Fare=77.9583, Cabin='D11', Embarked='S'),\n Row(PassengerId=775, Survived=1, Pclass=2, Name='Hocking, Mrs. Elizabeth (Eliza Needs)', Sex='female', Age=54.0, SibSp=1, Parch=3, Ticket='29105', Fare=23.0, Cabin=None, Embarked='S'),\n Row(PassengerId=778, Survived=1, Pclass=3, Name='Emanuel, Miss. Virginia Ethel', Sex='female', Age=5.0, SibSp=0, Parch=0, Ticket='364516', Fare=12.475, Cabin=None, Embarked='S'),\n Row(PassengerId=780, Survived=1, Pclass=1, Name='Robert, Mrs. Edward Scott (Elisabeth Walton McMillan)', Sex='female', Age=43.0, SibSp=0, Parch=1, Ticket='24160', Fare=211.3375, Cabin='B3', Embarked='S'),\n Row(PassengerId=781, Survived=1, Pclass=3, Name='Ayoub, Miss. Banoura', Sex='female', Age=13.0, SibSp=0, Parch=0, Ticket='2687', Fare=7.2292, Cabin=None, Embarked='C'),\n Row(PassengerId=782, Survived=1, Pclass=1, Name='Dick, Mrs. Albert Adrian (Vera Gillespie)', Sex='female', Age=17.0, SibSp=1, Parch=0, Ticket='17474', Fare=57.0, Cabin='B20', Embarked='S'),\n Row(PassengerId=787, Survived=1, Pclass=3, Name='Sjoblom, Miss. Anna Sofia', Sex='female', Age=18.0, SibSp=0, Parch=0, Ticket='3101265', Fare=7.4958, Cabin=None, Embarked='S'),\n Row(PassengerId=789, Survived=1, Pclass=3, Name='Dean, Master. Bertram Vere', Sex='male', Age=1.0, SibSp=1, Parch=2, Ticket='C.A. 2315', Fare=20.575, Cabin=None, Embarked='S'),\n Row(PassengerId=797, Survived=1, Pclass=1, Name='Leader, Dr. Alice (Farnham)', Sex='female', Age=49.0, SibSp=0, Parch=0, Ticket='17465', Fare=25.9292, Cabin='D17', Embarked='S'),\n Row(PassengerId=798, Survived=1, Pclass=3, Name='Osman, Mrs. Mara', Sex='female', Age=31.0, SibSp=0, Parch=0, Ticket='349244', Fare=8.6833, Cabin=None, Embarked='S'),\n Row(PassengerId=802, Survived=1, Pclass=2, Name='Collyer, Mrs. Harvey (Charlotte Annie Tate)', Sex='female', Age=31.0, SibSp=1, Parch=1, Ticket='C.A. 31921', Fare=26.25, Cabin=None, Embarked='S'),\n Row(PassengerId=803, Survived=1, Pclass=1, Name='Carter, Master. William Thornton II', Sex='male', Age=11.0, SibSp=1, Parch=2, Ticket='113760', Fare=120.0, Cabin='B96 B98', Embarked='S'),\n Row(PassengerId=804, Survived=1, Pclass=3, Name='Thomas, Master. Assad Alexander', Sex='male', Age=0.42, SibSp=0, Parch=1, Ticket='2625', Fare=8.5167, Cabin=None, Embarked='C'),\n Row(PassengerId=805, Survived=1, Pclass=3, Name='Hedman, Mr. Oskar Arvid', Sex='male', Age=27.0, SibSp=0, Parch=0, Ticket='347089', Fare=6.975, Cabin=None, Embarked='S'),\n Row(PassengerId=810, Survived=1, Pclass=1, Name='Chambers, Mrs. Norman Campbell (Bertha Griggs)', Sex='female', Age=33.0, SibSp=1, Parch=0, Ticket='113806', Fare=53.1, Cabin='E8', Embarked='S'),\n Row(PassengerId=821, Survived=1, Pclass=1, Name='Hays, Mrs. Charles Melville (Clara Jennings Gregg)', Sex='female', Age=52.0, SibSp=1, Parch=1, Ticket='12749', Fare=93.5, Cabin='B69', Embarked='S'),\n Row(PassengerId=822, Survived=1, Pclass=3, Name='Lulic, Mr. Nikola', Sex='male', Age=27.0, SibSp=0, Parch=0, Ticket='315098', Fare=8.6625, Cabin=None, Embarked='S'),\n Row(PassengerId=824, Survived=1, Pclass=3, Name='Moor, Mrs. (Beila)', Sex='female', Age=27.0, SibSp=0, Parch=1, Ticket='392096', Fare=12.475, Cabin='E121', Embarked='S'),\n Row(PassengerId=828, Survived=1, Pclass=2, Name='Mallet, Master. Andre', Sex='male', Age=1.0, SibSp=0, Parch=2, Ticket='S.C./PARIS 2079', Fare=37.0042, Cabin=None, Embarked='C'),\n Row(PassengerId=830, Survived=1, Pclass=1, Name='Stone, Mrs. George Nelson (Martha Evelyn)', Sex='female', Age=62.0, SibSp=0, Parch=0, Ticket='113572', Fare=80.0, Cabin='B28', Embarked=None),\n Row(PassengerId=831, Survived=1, Pclass=3, Name='Yasbeck, Mrs. Antoni (Selini Alexander)', Sex='female', Age=15.0, SibSp=1, Parch=0, Ticket='2659', Fare=14.4542, Cabin=None, Embarked='C'),\n Row(PassengerId=832, Survived=1, Pclass=2, Name='Richards, Master. George Sibley', Sex='male', Age=0.83, SibSp=1, Parch=1, Ticket='29106', Fare=18.75, Cabin=None, Embarked='S'),\n Row(PassengerId=836, Survived=1, Pclass=1, Name='Compton, Miss. Sara Rebecca', Sex='female', Age=39.0, SibSp=1, Parch=1, Ticket='PC 17756', Fare=83.1583, Cabin='E49', Embarked='C'),\n Row(PassengerId=839, Survived=1, Pclass=3, Name='Chip, Mr. Chang', Sex='male', Age=32.0, SibSp=0, Parch=0, Ticket='1601', Fare=56.4958, Cabin=None, Embarked='S'),\n Row(PassengerId=843, Survived=1, Pclass=1, Name='Serepeca, Miss. Augusta', Sex='female', Age=30.0, SibSp=0, Parch=0, Ticket='113798', Fare=31.0, Cabin=None, Embarked='C'),\n Row(PassengerId=854, Survived=1, Pclass=1, Name='Lines, Miss. Mary Conover', Sex='female', Age=16.0, SibSp=0, Parch=1, Ticket='PC 17592', Fare=39.4, Cabin='D28', Embarked='S'),\n Row(PassengerId=856, Survived=1, Pclass=3, Name='Aks, Mrs. Sam (Leah Rosen)', Sex='female', Age=18.0, SibSp=0, Parch=1, Ticket='392091', Fare=9.35, Cabin=None, Embarked='S'),\n Row(PassengerId=857, Survived=1, Pclass=1, Name='Wick, Mrs. George Dennick (Mary Hitchcock)', Sex='female', Age=45.0, SibSp=1, Parch=1, Ticket='36928', Fare=164.8667, Cabin=None, Embarked='S'),\n Row(PassengerId=858, Survived=1, Pclass=1, Name='Daly, Mr. Peter Denis ', Sex='male', Age=51.0, SibSp=0, Parch=0, Ticket='113055', Fare=26.55, Cabin='E17', Embarked='S'),\n Row(PassengerId=859, Survived=1, Pclass=3, Name='Baclini, Mrs. Solomon (Latifa Qurban)', Sex='female', Age=24.0, SibSp=0, Parch=3, Ticket='2666', Fare=19.2583, Cabin=None, Embarked='C'),\n Row(PassengerId=863, Survived=1, Pclass=1, Name='Swift, Mrs. Frederick Joel (Margaret Welles Barron)', Sex='female', Age=48.0, SibSp=0, Parch=0, Ticket='17466', Fare=25.9292, Cabin='D17', Embarked='S'),\n Row(PassengerId=866, Survived=1, Pclass=2, Name='Bystrom, Mrs. (Karolina)', Sex='female', Age=42.0, SibSp=0, Parch=0, Ticket='236852', Fare=13.0, Cabin=None, Embarked='S'),\n Row(PassengerId=867, Survived=1, Pclass=2, Name='Duran y More, Miss. Asuncion', Sex='female', Age=27.0, SibSp=1, Parch=0, Ticket='SC/PARIS 2149', Fare=13.8583, Cabin=None, Embarked='C'),\n Row(PassengerId=870, Survived=1, Pclass=3, Name='Johnson, Master. Harold Theodor', Sex='male', Age=4.0, SibSp=1, Parch=1, Ticket='347742', Fare=11.1333, Cabin=None, Embarked='S'),\n Row(PassengerId=872, Survived=1, Pclass=1, Name='Beckwith, Mrs. Richard Leonard (Sallie Monypeny)', Sex='female', Age=47.0, SibSp=1, Parch=1, Ticket='11751', Fare=52.5542, Cabin='D35', Embarked='S'),\n Row(PassengerId=875, Survived=1, Pclass=2, Name='Abelson, Mrs. Samuel (Hannah Wizosky)', Sex='female', Age=28.0, SibSp=1, Parch=0, Ticket='P/PP 3381', Fare=24.0, Cabin=None, Embarked='C'),\n Row(PassengerId=876, Survived=1, Pclass=3, Name='\"Najib, Miss. Adele Kiamie \"\"Jane\"\"\"', Sex='female', Age=15.0, SibSp=0, Parch=0, Ticket='2667', Fare=7.225, Cabin=None, Embarked='C'),\n Row(PassengerId=880, Survived=1, Pclass=1, Name='Potter, Mrs. Thomas Jr (Lily Alexenia Wilson)', Sex='female', Age=56.0, SibSp=0, Parch=1, Ticket='11767', Fare=83.1583, Cabin='C50', Embarked='C'),\n Row(PassengerId=881, Survived=1, Pclass=2, Name='Shelley, Mrs. William (Imanita Parrish Hall)', Sex='female', Age=25.0, SibSp=0, Parch=1, Ticket='230433', Fare=26.0, Cabin=None, Embarked='S'),\n Row(PassengerId=888, Survived=1, Pclass=1, Name='Graham, Miss. Margaret Edith', Sex='female', Age=19.0, SibSp=0, Parch=0, Ticket='112053', Fare=30.0, Cabin='B42', Embarked='S'),\n Row(PassengerId=890, Survived=1, Pclass=1, Name='Behr, Mr. Karl Howell', Sex='male', Age=26.0, SibSp=0, Parch=0, Ticket='111369', Fare=30.0, Cabin='C148', Embarked='C')]"
     },
     "execution_count": 29,
     "metadata": {},
     "output_type": "execute_result"
    }
   ],
   "source": [
    "# Determine the Total Death and Survived.\n",
    "# filtered_df.where(filtered_df.Survived == 0).count()\n",
    "filtered_df.where(filtered_df.Survived > 0).collect()"
   ],
   "metadata": {
    "collapsed": false,
    "ExecuteTime": {
     "end_time": "2023-12-10T06:35:54.017637Z",
     "start_time": "2023-12-10T06:35:53.790530Z"
    }
   },
   "id": "d3436e15e94c4c81"
  },
  {
   "cell_type": "code",
   "execution_count": 28,
   "outputs": [
    {
     "ename": "AttributeError",
     "evalue": "'GroupedData' object has no attribute 'collect'",
     "output_type": "error",
     "traceback": [
      "\u001B[0;31m---------------------------------------------------------------------------\u001B[0m",
      "\u001B[0;31mAttributeError\u001B[0m                            Traceback (most recent call last)",
      "Cell \u001B[0;32mIn[28], line 5\u001B[0m\n\u001B[1;32m      1\u001B[0m (filtered_df\u001B[38;5;241m.\u001B[39mselect(\u001B[38;5;124m'\u001B[39m\u001B[38;5;124mEmbarked\u001B[39m\u001B[38;5;124m'\u001B[39m,\u001B[38;5;124m'\u001B[39m\u001B[38;5;124mSex\u001B[39m\u001B[38;5;124m'\u001B[39m)\n\u001B[1;32m      2\u001B[0m  \u001B[38;5;241m.\u001B[39mwhere(col(\u001B[38;5;124m'\u001B[39m\u001B[38;5;124mSurvived\u001B[39m\u001B[38;5;124m'\u001B[39m)\n\u001B[1;32m      3\u001B[0m  \u001B[38;5;241m.\u001B[39misNotNull \u001B[38;5;129;01mand\u001B[39;00m col(\u001B[38;5;124m'\u001B[39m\u001B[38;5;124mSurvived\u001B[39m\u001B[38;5;124m'\u001B[39m) \u001B[38;5;241m==\u001B[39m \u001B[38;5;241m0\u001B[39m)\n\u001B[1;32m      4\u001B[0m  \u001B[38;5;241m.\u001B[39mgroupby( filtered_df\u001B[38;5;241m.\u001B[39mEmbarked,filtered_df\u001B[38;5;241m.\u001B[39mSex)\n\u001B[0;32m----> 5\u001B[0m  \u001B[38;5;241m.\u001B[39mcollect()\n\u001B[1;32m      6\u001B[0m  \u001B[38;5;241m.\u001B[39morderBy(\u001B[38;5;124m\"\u001B[39m\u001B[38;5;124mEmbarked\u001B[39m\u001B[38;5;124m\"\u001B[39m,\u001B[38;5;124m\"\u001B[39m\u001B[38;5;124mcount\u001B[39m\u001B[38;5;124m\"\u001B[39m,ascending\u001B[38;5;241m=\u001B[39m\u001B[38;5;28;01mTrue\u001B[39;00m)\n\u001B[1;32m      7\u001B[0m  \u001B[38;5;241m.\u001B[39mexplain())\n",
      "\u001B[0;31mAttributeError\u001B[0m: 'GroupedData' object has no attribute 'collect'"
     ]
    }
   ],
   "source": [
    "(filtered_df.select('Embarked','Sex')\n",
    " .where(col('Survived')\n",
    " .isNotNull and col('Survived') == 0)\n",
    " .groupby( filtered_df.Embarked,filtered_df.Sex)\n",
    " .count()\n",
    " .orderBy(\"Embarked\",\"count\",ascending=True)\n",
    " .explain())"
   ],
   "metadata": {
    "collapsed": false,
    "ExecuteTime": {
     "end_time": "2023-12-10T06:35:14.089775Z",
     "start_time": "2023-12-10T06:35:14.054885Z"
    }
   },
   "id": "5b8dec6aa396f5ab"
  },
  {
   "cell_type": "code",
   "execution_count": 7,
   "outputs": [],
   "source": [
    "# Define a Schema Up-Front For Incomming data.\n",
    "titanic_schema = StructType([\n",
    "            StructField(\"passenger_id\", IntegerType(), True),\n",
    "            StructField(\"survived\", IntegerType(), True),\n",
    "            StructField(\"passenger_class\", IntegerType(), True),\n",
    "            StructField(\"name\", StringType(), True),\n",
    "            StructField(\"sex\", StringType(), True),\n",
    "            StructField(\"age \", FloatType(), True),\n",
    "            StructField(\"sib_spouse\", IntegerType(), True),\n",
    "            StructField(\"parerent_child\", IntegerType(), True),\n",
    "            StructField(\"tickets\", StringType(), True),\n",
    "            StructField(\"fare\", FloatType(), True),\n",
    "            StructField(\"embarked\", StringType(), True),\n",
    "                            ])   "
   ],
   "metadata": {
    "collapsed": false,
    "ExecuteTime": {
     "end_time": "2023-12-03T10:26:33.529207Z",
     "start_time": "2023-12-03T10:26:33.525442Z"
    }
   },
   "id": "1c1e28ee6805517b"
  },
  {
   "cell_type": "code",
   "execution_count": 8,
   "outputs": [],
   "source": [
    "# Drop The Columns \"Cabin\"\n",
    "after_Filtered_df = filtered_df.drop(\"Cabin\")\n",
    "# after_Filtered_df.printSchema()"
   ],
   "metadata": {
    "collapsed": false,
    "ExecuteTime": {
     "end_time": "2023-12-03T10:26:35.538871Z",
     "start_time": "2023-12-03T10:26:35.522329Z"
    }
   },
   "id": "2f8c560474c7abf8"
  },
  {
   "cell_type": "code",
   "execution_count": null,
   "outputs": [],
   "source": [
    "# Create A DataFrame Using The Above Schema.\n",
    "new_dataframe =  spark.createDataFrame(data= after_Filtered_df.collect(), schema=titanic_schema)\n",
    "# new_dataframe.show(20)\n"
   ],
   "metadata": {
    "collapsed": false
   },
   "id": "186763be07ad8363"
  },
  {
   "cell_type": "code",
   "execution_count": null,
   "outputs": [],
   "source": [
    "# new_dataframe.explain()"
   ],
   "metadata": {
    "collapsed": false
   },
   "id": "8718be5b2594c46f"
  },
  {
   "cell_type": "code",
   "execution_count": 19,
   "outputs": [
    {
     "name": "stdout",
     "output_type": "stream",
     "text": [
      "+------------+--------+---------------+--------------------+------+----+----------+--------------+----------------+-------+--------+---------+\n",
      "|passenger_id|survived|passenger_class|                name|   sex|age |sib_spouse|parerent_child|         tickets|   fare|embarked|Expensive|\n",
      "+------------+--------+---------------+--------------------+------+----+----------+--------------+----------------+-------+--------+---------+\n",
      "|           1|       0|              3|Braund, Mr. Owen ...|  male|22.0|         1|             0|       A/5 21171|   7.25|       S|    false|\n",
      "|           2|       1|              1|Cumings, Mrs. Joh...|female|38.0|         1|             0|        PC 17599|71.2833|       C|     true|\n",
      "|           3|       1|              3|Heikkinen, Miss. ...|female|26.0|         0|             0|STON/O2. 3101282|  7.925|       S|    false|\n",
      "|           4|       1|              1|Futrelle, Mrs. Ja...|female|35.0|         1|             0|          113803|   53.1|       S|     true|\n",
      "|           5|       0|              3|Allen, Mr. Willia...|  male|35.0|         0|             0|          373450|   8.05|       S|    false|\n",
      "|           7|       0|              1|McCarthy, Mr. Tim...|  male|54.0|         0|             0|           17463|51.8625|       S|     true|\n",
      "|           8|       0|              3|Palsson, Master. ...|  male| 2.0|         3|             1|          349909| 21.075|       S|    false|\n",
      "|           9|       1|              3|Johnson, Mrs. Osc...|female|27.0|         0|             2|          347742|11.1333|       S|    false|\n",
      "|          10|       1|              2|Nasser, Mrs. Nich...|female|14.0|         1|             0|          237736|30.0708|       C|    false|\n",
      "|          11|       1|              3|Sandstrom, Miss. ...|female| 4.0|         1|             1|         PP 9549|   16.7|       S|    false|\n",
      "|          12|       1|              1|Bonnell, Miss. El...|female|58.0|         0|             0|          113783|  26.55|       S|    false|\n",
      "|          13|       0|              3|Saundercock, Mr. ...|  male|20.0|         0|             0|       A/5. 2151|   8.05|       S|    false|\n",
      "|          14|       0|              3|Andersson, Mr. An...|  male|39.0|         1|             5|          347082| 31.275|       S|    false|\n",
      "|          15|       0|              3|Vestrom, Miss. Hu...|female|14.0|         0|             0|          350406| 7.8542|       S|    false|\n",
      "|          16|       1|              2|Hewlett, Mrs. (Ma...|female|55.0|         0|             0|          248706|   16.0|       S|    false|\n",
      "|          17|       0|              3|Rice, Master. Eugene|  male| 2.0|         4|             1|          382652| 29.125|       Q|    false|\n",
      "|          19|       0|              3|Vander Planke, Mr...|female|31.0|         1|             0|          345763|   18.0|       S|    false|\n",
      "|          21|       0|              2|Fynney, Mr. Joseph J|  male|35.0|         0|             0|          239865|   26.0|       S|    false|\n",
      "|          22|       1|              2|Beesley, Mr. Lawr...|  male|34.0|         0|             0|          248698|   13.0|       S|    false|\n",
      "|          23|       1|              3|\"McGowan, Miss. A...|female|15.0|         0|             0|          330923| 8.0292|       Q|    false|\n",
      "+------------+--------+---------------+--------------------+------+----+----------+--------------+----------------+-------+--------+---------+\n"
     ]
    }
   ],
   "source": [
    "# Operations with Spark DataFrame Columns.\n",
    "# Adding a New Column using a conditional Expression.\n",
    "\n",
    "# Determine the Average Fare.\n",
    "avgFareRate = new_dataframe.select(avg(new_dataframe.fare)).collect().__str__()\n",
    "avg1 = avgFareRate.split('=', 2)\n",
    "delimeter = [')]']\n",
    "temp_data = []\n",
    "for d in delimeter:\n",
    "    for item in avg1:\n",
    "        temp_data.extend(item.split(d))\n",
    "        \n",
    "# print(temp_data)\n",
    "\n",
    "def is_float(string):\n",
    "    try:\n",
    "        # Return true if float\n",
    "        float(string)\n",
    "        return True\n",
    "    except ValueError:\n",
    "        # Return False if Error\n",
    "        return False\n",
    "    \n",
    "averageTicketRate = 0.0\n",
    "for data in temp_data:\n",
    "    if  is_float(data):\n",
    "        averageTicketRate = data\n",
    "# print(averageTicketRate)  \n",
    "\n",
    "# Explain the Spark Plans:\n",
    "new_dataframe.withColumn('Expensive', expr(\"Fare >\" + averageTicketRate)).show()\n",
    "\n",
    "\n",
    "\n",
    "# new_dataframe.show()"
   ],
   "metadata": {
    "collapsed": false,
    "ExecuteTime": {
     "end_time": "2023-12-03T10:34:14.626698Z",
     "start_time": "2023-12-03T10:34:14.294844Z"
    }
   },
   "id": "15d274480944d9f3"
  },
  {
   "cell_type": "code",
   "execution_count": 35,
   "outputs": [
    {
     "name": "stdout",
     "output_type": "stream",
     "text": [
      "== Physical Plan ==\n",
      "AdaptiveSparkPlan isFinalPlan=false\n",
      "+- HashAggregate(keys=[age #233], functions=[count(1)])\n",
      "   +- Exchange hashpartitioning(age #233, 200), ENSURE_REQUIREMENTS, [plan_id=626]\n",
      "      +- HashAggregate(keys=[knownfloatingpointnormalized(normalizenanandzero(age #233)) AS age #233], functions=[partial_count(1)])\n",
      "         +- Project [age #233]\n",
      "            +- Scan ExistingRDD[passenger_id#228,survived#229,passenger_class#230,name#231,sex#232,age #233,sib_spouse#234,parerent_child#235,tickets#236,fare#237,embarked#238]\n"
     ]
    }
   ],
   "source": [
    "aqx = new_dataframe.groupBy('age ').count()\n",
    "aqx.explain()"
   ],
   "metadata": {
    "collapsed": false,
    "ExecuteTime": {
     "end_time": "2023-12-03T10:41:59.222827Z",
     "start_time": "2023-12-03T10:41:59.115981Z"
    }
   },
   "id": "d3e0f74b2af59c5b"
  },
  {
   "cell_type": "code",
   "execution_count": null,
   "outputs": [],
   "source": [
    "sdx = new_dataframe.select('passenger_id','name')\n",
    "# sdx.show()"
   ],
   "metadata": {
    "collapsed": false
   },
   "id": "dbf806bbf8777c00"
  },
  {
   "cell_type": "markdown",
   "source": [
    "Narrow Transformations\n",
    "\n",
    "filter rows where Age = 10\n",
    "add a new column: adding first_name and last_name\n",
    "alter an exisitng column: adding 5 to age column\n",
    "select relevant columns"
   ],
   "metadata": {
    "collapsed": false
   },
   "id": "ef4ca14782ff2ac0"
  },
  {
   "cell_type": "code",
   "execution_count": 39,
   "outputs": [
    {
     "name": "stdout",
     "output_type": "stream",
     "text": [
      "+------------+--------+---------------+--------------------+------+----+----------+--------------+----------------+-------+--------+--------------------+---------+\n",
      "|passenger_id|survived|passenger_class|                name|   sex|age |sib_spouse|parerent_child|         tickets|   fare|embarked|          first_name|last_name|\n",
      "+------------+--------+---------------+--------------------+------+----+----------+--------------+----------------+-------+--------+--------------------+---------+\n",
      "|           1|       0|              3|Braund, Mr. Owen ...|  male|22.0|         1|             0|       A/5 21171|   7.25|       S|     Mr. Owen Harris|   Braund|\n",
      "|           2|       1|              1|Cumings, Mrs. Joh...|female|38.0|         1|             0|        PC 17599|71.2833|       C|Mrs. John Bradley...|  Cumings|\n",
      "|           3|       1|              3|Heikkinen, Miss. ...|female|26.0|         0|             0|STON/O2. 3101282|  7.925|       S|         Miss. Laina|Heikkinen|\n",
      "|           4|       1|              1|Futrelle, Mrs. Ja...|female|35.0|         1|             0|          113803|   53.1|       S|Mrs. Jacques Heat...| Futrelle|\n",
      "|           5|       0|              3|Allen, Mr. Willia...|  male|35.0|         0|             0|          373450|   8.05|       S|   Mr. William Henry|    Allen|\n",
      "+------------+--------+---------------+--------------------+------+----+----------+--------------+----------------+-------+--------+--------------------+---------+\n"
     ]
    }
   ],
   "source": [
    "df_narrow_tansform  =(\n",
    "    new_dataframe\n",
    "    .withColumn('first_name', F.split('name', ', ').getItem(1))\n",
    "    .withColumn('last_name', F.split('name', ', ').getItem(0))\n",
    "    .select('*')\n",
    ")\n",
    "\n",
    "df_narrow_tansform.show(5)\n",
    "# df_narrow_tansform.explain()"
   ],
   "metadata": {
    "collapsed": false,
    "ExecuteTime": {
     "end_time": "2023-12-03T11:01:04.276682Z",
     "start_time": "2023-12-03T11:01:04.048287Z"
    }
   },
   "id": "b2ed271676d411f0"
  },
  {
   "cell_type": "code",
   "execution_count": 17,
   "outputs": [
    {
     "name": "stdout",
     "output_type": "stream",
     "text": [
      "== Physical Plan ==\n",
      "*(1) Project [passenger_id#306, survived#307, passenger_class#308, name#309, sex#310, age #311, sib_spouse#312, parerent_child#313, tickets#314, fare#315, embarked#316, split(name#309, , , -1)[1] AS first_name#455, split(name#309, , , -1)[0] AS last_name#468]\n",
      "+- *(1) Scan ExistingRDD[passenger_id#306,survived#307,passenger_class#308,name#309,sex#310,age #311,sib_spouse#312,parerent_child#313,tickets#314,fare#315,embarked#316]\n"
     ]
    }
   ],
   "source": [
    "df_narrow_tansform.explain()"
   ],
   "metadata": {
    "collapsed": false,
    "ExecuteTime": {
     "end_time": "2023-12-02T14:53:51.836812Z",
     "start_time": "2023-12-02T14:53:51.741521Z"
    }
   },
   "id": "3ba8650ce4a22d21"
  },
  {
   "cell_type": "code",
   "execution_count": null,
   "outputs": [],
   "source": [
    "ndf =  df_narrow_tansform.drop('name')\n",
    "ndf.show()\n",
    "ndf.printSchema()\n"
   ],
   "metadata": {
    "collapsed": false
   },
   "id": "a12dbb3bee82ee35"
  },
  {
   "cell_type": "code",
   "execution_count": null,
   "outputs": [],
   "source": [
    "# Re-Arranging The Columns\n",
    "nndf =  ndf.select('passenger_id', 'first_name', 'last_name', 'passenger_class', 'survived','sex', 'age ', 'tickets', 'fare')\n",
    "# nndf.explain()"
   ],
   "metadata": {
    "collapsed": false
   },
   "id": "ddab73972ade4cce"
  },
  {
   "cell_type": "code",
   "execution_count": 42,
   "outputs": [],
   "source": [
    "# Create A Temporary View / Table From The Existing DataFrame.\n",
    "ndf.createOrReplaceTempView(\"titanic\")\n"
   ],
   "metadata": {
    "collapsed": false,
    "ExecuteTime": {
     "end_time": "2023-12-03T11:01:17.030305Z",
     "start_time": "2023-12-03T11:01:16.999887Z"
    }
   },
   "id": "9e694ea5a9571d5f"
  },
  {
   "cell_type": "code",
   "execution_count": 48,
   "outputs": [
    {
     "data": {
      "text/plain": "[Row(max(fare)=512.3292236328125)]"
     },
     "execution_count": 48,
     "metadata": {},
     "output_type": "execute_result"
    }
   ],
   "source": [
    "spark.sql('select max(t.fare) from titanic t').take(2)"
   ],
   "metadata": {
    "collapsed": false,
    "ExecuteTime": {
     "end_time": "2023-12-03T11:13:09.522418Z",
     "start_time": "2023-12-03T11:13:09.327884Z"
    }
   },
   "id": "8b19a971c040ce68"
  },
  {
   "cell_type": "code",
   "execution_count": 65,
   "outputs": [
    {
     "name": "stdout",
     "output_type": "stream",
     "text": [
      "+---------------+\n",
      "|count(survived)|\n",
      "+---------------+\n",
      "|            290|\n",
      "+---------------+\n"
     ]
    }
   ],
   "source": [
    "# Determine the Total Number Of Survived Passengers.\n",
    "spark.sql('select count(survived) from titanic where survived = 1;').show()"
   ],
   "metadata": {
    "collapsed": false,
    "ExecuteTime": {
     "end_time": "2023-12-03T11:57:18.643647Z",
     "start_time": "2023-12-03T11:57:18.412671Z"
    }
   },
   "id": "73f08b5c7e60c8f"
  },
  {
   "cell_type": "code",
   "execution_count": 67,
   "outputs": [
    {
     "name": "stdout",
     "output_type": "stream",
     "text": [
      "+---------------+--------+\n",
      "|passenger_class|Survived|\n",
      "+---------------+--------+\n",
      "|              1|     122|\n",
      "|              3|      85|\n",
      "|              2|      83|\n",
      "+---------------+--------+\n"
     ]
    }
   ],
   "source": [
    "# Select Top 5 passenger class, where the survival rate is high.\n",
    "spark.sql('select passenger_class, count(survived) AS Survived from titanic where survived = 1 group by passenger_class order by Survived DESC;').show()"
   ],
   "metadata": {
    "collapsed": false,
    "ExecuteTime": {
     "end_time": "2023-12-03T12:01:38.517900Z",
     "start_time": "2023-12-03T12:01:38.081591Z"
    }
   },
   "id": "b8c0b71a6469c374"
  },
  {
   "cell_type": "code",
   "execution_count": 60,
   "outputs": [
    {
     "name": "stdout",
     "output_type": "stream",
     "text": [
      "+------+--------+\n",
      "|   sex|Survived|\n",
      "+------+--------+\n",
      "|female|     197|\n",
      "|  male|      93|\n",
      "+------+--------+\n"
     ]
    }
   ],
   "source": [
    "# Select Survival Rate based on Sex.\n",
    "spark.sql('select sex, count(survived) AS Survived from titanic where survived = 1 group by sex order by Survived DESC;').show()"
   ],
   "metadata": {
    "collapsed": false,
    "ExecuteTime": {
     "end_time": "2023-12-03T11:54:43.019900Z",
     "start_time": "2023-12-03T11:54:42.716842Z"
    }
   },
   "id": "1a1bd51591ef724"
  },
  {
   "cell_type": "markdown",
   "source": [],
   "metadata": {
    "collapsed": false
   },
   "id": "e4a4a1329ab46422"
  }
 ],
 "metadata": {
  "kernelspec": {
   "display_name": "Python 3",
   "language": "python",
   "name": "python3"
  },
  "language_info": {
   "codemirror_mode": {
    "name": "ipython",
    "version": 2
   },
   "file_extension": ".py",
   "mimetype": "text/x-python",
   "name": "python",
   "nbconvert_exporter": "python",
   "pygments_lexer": "ipython2",
   "version": "2.7.6"
  }
 },
 "nbformat": 4,
 "nbformat_minor": 5
}
